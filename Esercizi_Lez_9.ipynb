{
  "nbformat": 4,
  "nbformat_minor": 0,
  "metadata": {
    "colab": {
      "name": "Esercizi Lez 9.ipynb",
      "provenance": [],
      "collapsed_sections": [],
      "authorship_tag": "ABX9TyORgz8lptvA/Pf/DGKNFqVf",
      "include_colab_link": true
    },
    "kernelspec": {
      "name": "ir",
      "display_name": "R"
    }
  },
  "cells": [
    {
      "cell_type": "markdown",
      "metadata": {
        "id": "view-in-github",
        "colab_type": "text"
      },
      "source": [
        "<a href=\"https://colab.research.google.com/github/StaThin/statmat/blob/master/Esercizi_Lez_9.ipynb\" target=\"_parent\"><img src=\"https://colab.research.google.com/assets/colab-badge.svg\" alt=\"Open In Colab\"/></a>"
      ]
    },
    {
      "cell_type": "markdown",
      "metadata": {
        "id": "_SvwDQayHbVx",
        "colab_type": "text"
      },
      "source": [
        "## Esercizi Lez 9 - Test statistici\n",
        "\n"
      ]
    },
    {
      "cell_type": "markdown",
      "metadata": {
        "id": "Ku2HNImYE5wP",
        "colab_type": "text"
      },
      "source": [
        "#### Esercizio 1\n",
        "\n",
        "Sia $\\mu$ il reddito medio annuo in migliaia di Euro per una certa popolazione che si suppone normale. Si estrae un campione i.i.d. di 100 individui dalla popolazione e si ottiene una media di 22.5 (migliaia di Euro) e una varianza campionaria $S^2 =  12.5$. Sottoponete a test l'ipotesi $H_0 : \\mu =  22$  contro $H_1 : \\mu > 22$. \n",
        "\n",
        "a. Definite una statistica test opportuna e calcolate il valore p. Commentate  e interpretate. \n",
        "\n",
        "b. Se l'assunzione di normalità non potesse essere fatta che cosa potreste concludere?\n",
        "\n",
        "#### Esercizio 2 \n",
        " In un esperimento 16 topi sono suddivisi casualmente in 2 gruppi: un gruppo di animali trattati con un farmaco e un gruppo di controllo di animali non trattati. Il trattamento serve per prolungare la sopravvivenza dei topi dopo un'operazione. Al termine dell'esperimento si studia il numero di giorni di sopravvivenza dei topi.\n",
        "\n",
        " L'obiettivo dell'esperimento è quello di valutare se il trattamento prolunga il tempo di sopravvivenza.\n"
      ]
    },
    {
      "cell_type": "code",
      "metadata": {
        "id": "1WDwNLfvN4Aw",
        "colab_type": "code",
        "colab": {}
      },
      "source": [
        "tratt = c(94,197,16, 38, 99, 141, 23)\n",
        "contr = c(52, 104, 146, 10, 51, 30, 40, 27, 46)"
      ],
      "execution_count": 0,
      "outputs": []
    },
    {
      "cell_type": "markdown",
      "metadata": {
        "id": "2Fb2X4TiOcoe",
        "colab_type": "text"
      },
      "source": [
        "Supponiamo che i dati siano due campioni i.i.d indipendenti da due distribuzioni esponenziali di medie $\\mu_1$ e $\\mu_2$.  Definite un modello opportuno e sottoponete a test l'ipotesi \n",
        "$H_0: \\mu_1 = \\mu_2$ con un alternativa $\\mu_1 > \\mu_2$ usando il test del rapporto di verosimiglianza. Determinate una statistica test opportuna e interpretate il valore $p$."
      ]
    },
    {
      "cell_type": "markdown",
      "metadata": {
        "id": "f9UrWUqgPsCU",
        "colab_type": "text"
      },
      "source": [
        "#### Esercizio 3  (solo per Matematica)\n",
        "\n",
        "Il valore $p$ può essere scritto come\n",
        "$$\n",
        "p_{oss} = 1 - F_0(d_{oss})\n",
        "$$\n",
        "dove $d_{oss}$ è il valore osservato della statistica test $D$ e $F_0$ è la funzione di ripertizione (che supponiamo continua) della statistica test sotto ipotesi nulla. \n",
        "\n",
        "Considerate il valore $p$ nel campionamento ripetuto, cioè la variabile aleatoria\n",
        "$$\n",
        "P  = 1 - F_0(D). \n",
        "$$\n",
        "a. Qual è la distribuzione sotto ipotesi nulla della variabile aleatoria $P$?\n"
      ]
    },
    {
      "cell_type": "markdown",
      "metadata": {
        "id": "AEFbR6yah7YY",
        "colab_type": "text"
      },
      "source": [
        "### Esercizio 4\n",
        "\n",
        "Abbiamo raccolto dati sul prezzo $X$ (in euro) dell'hamburger e \n",
        "sulla quantità  $Y$ venduta in due giorni, in 12 punti vendita. \n",
        "I dati vengono sintetizzati con le seguente misure.\n",
        "$$\n",
        "\\begin{matrix}\n",
        "\\Sigma x_iy_i = 32709.2 & \\Sigma x_i =  35.9 & \\Sigma y_i = 11090\\\\\n",
        "\\Sigma x_i^2 =  108.13  & \\Sigma y^2_i = 10584612 & \\\\\n",
        "\\end{matrix}\n",
        "$$\n",
        "\n",
        "a. Stimare la retta di regressione e interpretarla. \n",
        "\n",
        "b. Trovare la devianza residua e l'errore standard stimato  $\\widehat{se}(\\hat \\beta_1)$. \n",
        "\n",
        "c. Sottoporre a test l'ipotesi $\\beta_1 = 0$. \n",
        "\n",
        "d. Mostrare la tavola di analisi della varianza e calcolare la statistica test $F$.  \n",
        "\n",
        "### Esercizio 5\n",
        "\n",
        "(Freedman)\n",
        "\n",
        "Considerate il modello di regressione $Y_i = \\beta_0 + \\beta_1 x_i \\epsilon_i$ con $\\epsilon_i$ i.i.d. e normali $N(0, \\sigma^2)$. \n",
        "\n",
        "Supponiamo che la teoria sottostante al problema ci suggerisca di sottoporre a test l'ipotesi $\\beta=1$. Si adatta il modello ai dati per $ i=1,\\dots,52$  col metodo dei minimi quadrati ottenendo $\\hat \\beta = 1.765$ con errore standard $\\widehat{se} = 0.375$. \n",
        "\n",
        "Rispondere vero o falso alle domande seguenti e giustificare.\n",
        "\n",
        "a. La statistica test per sottoporre a verifica $\\beta=0$  è $t = 2.04$.\n",
        "\n",
        "b. $\\hat \\beta$ è significativo.\n",
        "\n",
        "c. $\\hat \\beta$ è altamente significativo.\n",
        "\n",
        "d. La probabilità che $\\beta$ sia diverso da 0  è circa il $95\\%$.\n",
        "\n",
        "e. La probabilità che $\\beta$ sia uguale a zero  è circa il $5\\%$.\n",
        "f. Se il modello è giusto e $\\beta=1$  vi è circa il $5\\%$ di probabilità di ottenere $|\\hat\\beta/\\widehat{se}| > 2$.\n",
        "\n",
        "g. Se il modello è giusto e $\\beta=1$  vi è circa il $95\\%$ di probabilità di ottenere $|\\hat\\beta/\\widehat{se}| < 2$.\n",
        "\n",
        "h. Il test dimostra che il modello teorico è giusto.\n",
        "\n",
        "i. Il test assume che il modello teorico sia giusto.\n",
        "\n",
        "l. Se il modello è giusto, il test fornisce evidenza che $\\beta=1$.\n",
        "\n"
      ]
    },
    {
      "cell_type": "markdown",
      "metadata": {
        "id": "n7DJk5Gap2wR",
        "colab_type": "text"
      },
      "source": [
        "### Esercizio 6 (solo per Informatica)\n",
        "\n",
        "I dati seguenti mostrano la variabile `y`= massimo livello del mare in cm a Venezia negli anni `x` dal 1931 al 1981."
      ]
    },
    {
      "cell_type": "code",
      "metadata": {
        "id": "8V4RBdAHq91y",
        "colab_type": "code",
        "colab": {}
      },
      "source": [
        "y = c(103, 78, 121, 116, 115, 147, 119, 114, 89, 102, 99, 91, 97, \n",
        "106, 105, 136, 126, 132, 104, 117, 151, 116, 107, 112, 97, 95, \n",
        "119, 124, 118, 145, 122, 114, 118, 107, 110, 194, 138, 144, 138, \n",
        "123, 122, 120, 114, 96, 125, 124, 120, 132, 166, 134, 138)\n",
        "anni = c(1931, 1932, 1933, 1934, 1935, 1936, 1937, 1938, 1939, 1940, \n",
        "1941, 1942, 1943, 1944, 1945, 1946, 1947, 1948, 1949, 1950, 1951, \n",
        "1952, 1953, 1954, 1955, 1956, 1957, 1958, 1959, 1960, 1961, 1962, \n",
        "1963, 1964, 1965, 1966, 1967, 1968, 1969, 1970, 1971, 1972, 1973, \n",
        "1974, 1975, 1976, 1977, 1978, 1979, 1980, 1981)"
      ],
      "execution_count": 0,
      "outputs": []
    },
    {
      "cell_type": "markdown",
      "metadata": {
        "id": "sAbcCElrtYis",
        "colab_type": "text"
      },
      "source": [
        "a. Determinare la retta stimata di regressione lineare semplice. Usare come variabile esplicativa la variabile  `anni` espressa in unità di scarti ripetto all'anno 1956.   \n",
        "\n",
        "b. Fornite la tabella completa  delle stime dei parametri e della loro incertezza e interpretarle. \n",
        "\n",
        "c. Produrre la tavola di analisi della varianza. Calcolare l'indeice di terminazione lineare e la statistica test F.\n",
        "\n",
        "d. Effettuare il test di nullità della pendenza. \n",
        "\n",
        "d. Qule spiegazione potete dare del fenomeno che questi dati mettono in evidenza?\n",
        "\n"
      ]
    },
    {
      "cell_type": "markdown",
      "metadata": {
        "id": "LtWO0wfXDbbA",
        "colab_type": "text"
      },
      "source": [
        "### Esercizio 7\n",
        "\n",
        "Si vuole verificare se una moneta è bilanciata. Sia $\\theta$ la probabilità di test in un lancio. Si voglia sottoporre a test $H_0: \\theta = 1/2$ contro un'alternativa bilaterale. \n",
        "Si lancia la moneta $10$ volte. Sia $Y_i = 1$ se esce testa e $X_i = 0$ se esce croce. Sia $T = \\sum_{i=1}^{10} Y_i$ la statistica test. Considerate le regioni critiche\n",
        "$$\n",
        "K_1 = \\{ Y : | T - 5 | \\ge 4\\} , \\quad \n",
        "K_1 = \\{ Y : | T - 5 | \\ge 3\\}.\n",
        "$$\n",
        "a. Calcolare la probabilità di errore del I tipo  per $K_1$ e $K_2$.\n",
        "b. Calcolare la  probabilità di errore del II tipo  per $K_1$ e $K_2$ se $\\theta = 0.4$.\n"
      ]
    }
  ]
}