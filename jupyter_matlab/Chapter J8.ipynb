{
 "cells": [
  {
   "cell_type": "markdown",
   "metadata": {},
   "source": [
    "## Chapter 8. Model Selection"
   ]
  },
  {
   "cell_type": "markdown",
   "metadata": {},
   "source": [
    "### Example 8.2 Overfitting"
   ]
  },
  {
   "cell_type": "markdown",
   "metadata": {},
   "source": [
    "Let's generate observations fom the model\n",
    "\n",
    "$$\n",
    "Y_i = (X_i - 0.25)^2 + 1 + N(0, 0.1^2), \\qquad X_i \\sim U([0,1]), \\qquad i = 1, \\dots, 11\n",
    "$$"
   ]
  },
  {
   "cell_type": "code",
   "execution_count": 6,
   "metadata": {},
   "outputs": [],
   "source": [
    "using StatsModels, Distributions, StatsPlots, DataFrames, GLM, Polynomials, Random\n",
    "Random.seed!(90)\n",
    "x = rand(11);\n",
    "e = Normal(0, 0.03)\n",
    "y = (x .- 0.25).^2 .+ 1 + rand(e,11);"
   ]
  },
  {
   "cell_type": "code",
   "execution_count": 2,
   "metadata": {},
   "outputs": [
    {
     "data": {
      "image/svg+xml": [
       "<?xml version=\"1.0\" encoding=\"utf-8\"?>\n",
       "<svg xmlns=\"http://www.w3.org/2000/svg\" xmlns:xlink=\"http://www.w3.org/1999/xlink\" width=\"600\" height=\"400\" viewBox=\"0 0 2400 1600\">\n",
       "<defs>\n",
       "  <clipPath id=\"clip6200\">\n",
       "    <rect x=\"0\" y=\"0\" width=\"2400\" height=\"1600\"/>\n",
       "  </clipPath>\n",
       "</defs>\n",
       "<polygon clip-path=\"url(#clip6200)\" points=\"\n",
       "0,1600 2400,1600 2400,0 0,0 \n",
       "  \" fill=\"#ffffff\" fill-rule=\"evenodd\" fill-opacity=\"1\"/>\n",
       "<defs>\n",
       "  <clipPath id=\"clip6201\">\n",
       "    <rect x=\"480\" y=\"0\" width=\"1681\" height=\"1600\"/>\n",
       "  </clipPath>\n",
       "</defs>\n",
       "<polygon clip-path=\"url(#clip6200)\" points=\"\n",
       "161.394,1503.47 2321.26,1503.47 2321.26,47.2441 161.394,47.2441 \n",
       "  \" fill=\"#ffffff\" fill-rule=\"evenodd\" fill-opacity=\"1\"/>\n",
       "<defs>\n",
       "  <clipPath id=\"clip6202\">\n",
       "    <rect x=\"161\" y=\"47\" width=\"2161\" height=\"1457\"/>\n",
       "  </clipPath>\n",
       "</defs>\n",
       "<polyline clip-path=\"url(#clip6202)\" style=\"stroke:#000000; stroke-width:2; stroke-opacity:0.1; fill:none\" points=\"\n",
       "  215.31,1503.47 215.31,47.2441 \n",
       "  \"/>\n",
       "<polyline clip-path=\"url(#clip6202)\" style=\"stroke:#000000; stroke-width:2; stroke-opacity:0.1; fill:none\" points=\"\n",
       "  730.308,1503.47 730.308,47.2441 \n",
       "  \"/>\n",
       "<polyline clip-path=\"url(#clip6202)\" style=\"stroke:#000000; stroke-width:2; stroke-opacity:0.1; fill:none\" points=\"\n",
       "  1245.31,1503.47 1245.31,47.2441 \n",
       "  \"/>\n",
       "<polyline clip-path=\"url(#clip6202)\" style=\"stroke:#000000; stroke-width:2; stroke-opacity:0.1; fill:none\" points=\"\n",
       "  1760.3,1503.47 1760.3,47.2441 \n",
       "  \"/>\n",
       "<polyline clip-path=\"url(#clip6202)\" style=\"stroke:#000000; stroke-width:2; stroke-opacity:0.1; fill:none\" points=\"\n",
       "  2275.3,1503.47 2275.3,47.2441 \n",
       "  \"/>\n",
       "<polyline clip-path=\"url(#clip6202)\" style=\"stroke:#000000; stroke-width:2; stroke-opacity:0.1; fill:none\" points=\"\n",
       "  161.394,1462.29 2321.26,1462.29 \n",
       "  \"/>\n",
       "<polyline clip-path=\"url(#clip6202)\" style=\"stroke:#000000; stroke-width:2; stroke-opacity:0.1; fill:none\" points=\"\n",
       "  161.394,1213.79 2321.26,1213.79 \n",
       "  \"/>\n",
       "<polyline clip-path=\"url(#clip6202)\" style=\"stroke:#000000; stroke-width:2; stroke-opacity:0.1; fill:none\" points=\"\n",
       "  161.394,965.292 2321.26,965.292 \n",
       "  \"/>\n",
       "<polyline clip-path=\"url(#clip6202)\" style=\"stroke:#000000; stroke-width:2; stroke-opacity:0.1; fill:none\" points=\"\n",
       "  161.394,716.794 2321.26,716.794 \n",
       "  \"/>\n",
       "<polyline clip-path=\"url(#clip6202)\" style=\"stroke:#000000; stroke-width:2; stroke-opacity:0.1; fill:none\" points=\"\n",
       "  161.394,468.296 2321.26,468.296 \n",
       "  \"/>\n",
       "<polyline clip-path=\"url(#clip6202)\" style=\"stroke:#000000; stroke-width:2; stroke-opacity:0.1; fill:none\" points=\"\n",
       "  161.394,219.798 2321.26,219.798 \n",
       "  \"/>\n",
       "<polyline clip-path=\"url(#clip6200)\" style=\"stroke:#000000; stroke-width:4; stroke-opacity:1; fill:none\" points=\"\n",
       "  161.394,1503.47 2321.26,1503.47 \n",
       "  \"/>\n",
       "<polyline clip-path=\"url(#clip6200)\" style=\"stroke:#000000; stroke-width:4; stroke-opacity:1; fill:none\" points=\"\n",
       "  161.394,1503.47 161.394,47.2441 \n",
       "  \"/>\n",
       "<polyline clip-path=\"url(#clip6200)\" style=\"stroke:#000000; stroke-width:4; stroke-opacity:1; fill:none\" points=\"\n",
       "  215.31,1503.47 215.31,1481.63 \n",
       "  \"/>\n",
       "<polyline clip-path=\"url(#clip6200)\" style=\"stroke:#000000; stroke-width:4; stroke-opacity:1; fill:none\" points=\"\n",
       "  730.308,1503.47 730.308,1481.63 \n",
       "  \"/>\n",
       "<polyline clip-path=\"url(#clip6200)\" style=\"stroke:#000000; stroke-width:4; stroke-opacity:1; fill:none\" points=\"\n",
       "  1245.31,1503.47 1245.31,1481.63 \n",
       "  \"/>\n",
       "<polyline clip-path=\"url(#clip6200)\" style=\"stroke:#000000; stroke-width:4; stroke-opacity:1; fill:none\" points=\"\n",
       "  1760.3,1503.47 1760.3,1481.63 \n",
       "  \"/>\n",
       "<polyline clip-path=\"url(#clip6200)\" style=\"stroke:#000000; stroke-width:4; stroke-opacity:1; fill:none\" points=\"\n",
       "  2275.3,1503.47 2275.3,1481.63 \n",
       "  \"/>\n",
       "<polyline clip-path=\"url(#clip6200)\" style=\"stroke:#000000; stroke-width:4; stroke-opacity:1; fill:none\" points=\"\n",
       "  161.394,1462.29 193.792,1462.29 \n",
       "  \"/>\n",
       "<polyline clip-path=\"url(#clip6200)\" style=\"stroke:#000000; stroke-width:4; stroke-opacity:1; fill:none\" points=\"\n",
       "  161.394,1213.79 193.792,1213.79 \n",
       "  \"/>\n",
       "<polyline clip-path=\"url(#clip6200)\" style=\"stroke:#000000; stroke-width:4; stroke-opacity:1; fill:none\" points=\"\n",
       "  161.394,965.292 193.792,965.292 \n",
       "  \"/>\n",
       "<polyline clip-path=\"url(#clip6200)\" style=\"stroke:#000000; stroke-width:4; stroke-opacity:1; fill:none\" points=\"\n",
       "  161.394,716.794 193.792,716.794 \n",
       "  \"/>\n",
       "<polyline clip-path=\"url(#clip6200)\" style=\"stroke:#000000; stroke-width:4; stroke-opacity:1; fill:none\" points=\"\n",
       "  161.394,468.296 193.792,468.296 \n",
       "  \"/>\n",
       "<polyline clip-path=\"url(#clip6200)\" style=\"stroke:#000000; stroke-width:4; stroke-opacity:1; fill:none\" points=\"\n",
       "  161.394,219.798 193.792,219.798 \n",
       "  \"/>\n",
       "<g clip-path=\"url(#clip6200)\">\n",
       "<text style=\"fill:#000000; fill-opacity:1; font-family:Arial,Helvetica Neue,Helvetica,sans-serif; font-size:48px; text-anchor:middle;\" transform=\"rotate(0, 215.31, 1557.47)\" x=\"215.31\" y=\"1557.47\">0.00</text>\n",
       "</g>\n",
       "<g clip-path=\"url(#clip6200)\">\n",
       "<text style=\"fill:#000000; fill-opacity:1; font-family:Arial,Helvetica Neue,Helvetica,sans-serif; font-size:48px; text-anchor:middle;\" transform=\"rotate(0, 730.308, 1557.47)\" x=\"730.308\" y=\"1557.47\">0.25</text>\n",
       "</g>\n",
       "<g clip-path=\"url(#clip6200)\">\n",
       "<text style=\"fill:#000000; fill-opacity:1; font-family:Arial,Helvetica Neue,Helvetica,sans-serif; font-size:48px; text-anchor:middle;\" transform=\"rotate(0, 1245.31, 1557.47)\" x=\"1245.31\" y=\"1557.47\">0.50</text>\n",
       "</g>\n",
       "<g clip-path=\"url(#clip6200)\">\n",
       "<text style=\"fill:#000000; fill-opacity:1; font-family:Arial,Helvetica Neue,Helvetica,sans-serif; font-size:48px; text-anchor:middle;\" transform=\"rotate(0, 1760.3, 1557.47)\" x=\"1760.3\" y=\"1557.47\">0.75</text>\n",
       "</g>\n",
       "<g clip-path=\"url(#clip6200)\">\n",
       "<text style=\"fill:#000000; fill-opacity:1; font-family:Arial,Helvetica Neue,Helvetica,sans-serif; font-size:48px; text-anchor:middle;\" transform=\"rotate(0, 2275.3, 1557.47)\" x=\"2275.3\" y=\"1557.47\">1.00</text>\n",
       "</g>\n",
       "<g clip-path=\"url(#clip6200)\">\n",
       "<text style=\"fill:#000000; fill-opacity:1; font-family:Arial,Helvetica Neue,Helvetica,sans-serif; font-size:48px; text-anchor:end;\" transform=\"rotate(0, 137.394, 1479.79)\" x=\"137.394\" y=\"1479.79\">1.0</text>\n",
       "</g>\n",
       "<g clip-path=\"url(#clip6200)\">\n",
       "<text style=\"fill:#000000; fill-opacity:1; font-family:Arial,Helvetica Neue,Helvetica,sans-serif; font-size:48px; text-anchor:end;\" transform=\"rotate(0, 137.394, 1231.29)\" x=\"137.394\" y=\"1231.29\">1.1</text>\n",
       "</g>\n",
       "<g clip-path=\"url(#clip6200)\">\n",
       "<text style=\"fill:#000000; fill-opacity:1; font-family:Arial,Helvetica Neue,Helvetica,sans-serif; font-size:48px; text-anchor:end;\" transform=\"rotate(0, 137.394, 982.792)\" x=\"137.394\" y=\"982.792\">1.2</text>\n",
       "</g>\n",
       "<g clip-path=\"url(#clip6200)\">\n",
       "<text style=\"fill:#000000; fill-opacity:1; font-family:Arial,Helvetica Neue,Helvetica,sans-serif; font-size:48px; text-anchor:end;\" transform=\"rotate(0, 137.394, 734.294)\" x=\"137.394\" y=\"734.294\">1.3</text>\n",
       "</g>\n",
       "<g clip-path=\"url(#clip6200)\">\n",
       "<text style=\"fill:#000000; fill-opacity:1; font-family:Arial,Helvetica Neue,Helvetica,sans-serif; font-size:48px; text-anchor:end;\" transform=\"rotate(0, 137.394, 485.796)\" x=\"137.394\" y=\"485.796\">1.4</text>\n",
       "</g>\n",
       "<g clip-path=\"url(#clip6200)\">\n",
       "<text style=\"fill:#000000; fill-opacity:1; font-family:Arial,Helvetica Neue,Helvetica,sans-serif; font-size:48px; text-anchor:end;\" transform=\"rotate(0, 137.394, 237.298)\" x=\"137.394\" y=\"237.298\">1.5</text>\n",
       "</g>\n",
       "<circle clip-path=\"url(#clip6202)\" style=\"fill:#000000; stroke:none; fill-opacity:1\" cx=\"2080.56\" cy=\"444.92\" r=\"18\"/>\n",
       "<circle clip-path=\"url(#clip6202)\" style=\"fill:#009af9; stroke:none; fill-opacity:1\" cx=\"2080.56\" cy=\"444.92\" r=\"14\"/>\n",
       "<circle clip-path=\"url(#clip6202)\" style=\"fill:#000000; stroke:none; fill-opacity:1\" cx=\"2227.63\" cy=\"221.446\" r=\"18\"/>\n",
       "<circle clip-path=\"url(#clip6202)\" style=\"fill:#009af9; stroke:none; fill-opacity:1\" cx=\"2227.63\" cy=\"221.446\" r=\"14\"/>\n",
       "<circle clip-path=\"url(#clip6202)\" style=\"fill:#000000; stroke:none; fill-opacity:1\" cx=\"2203.06\" cy=\"88.4582\" r=\"18\"/>\n",
       "<circle clip-path=\"url(#clip6202)\" style=\"fill:#009af9; stroke:none; fill-opacity:1\" cx=\"2203.06\" cy=\"88.4582\" r=\"14\"/>\n",
       "<circle clip-path=\"url(#clip6202)\" style=\"fill:#000000; stroke:none; fill-opacity:1\" cx=\"977.624\" cy=\"1271.27\" r=\"18\"/>\n",
       "<circle clip-path=\"url(#clip6202)\" style=\"fill:#009af9; stroke:none; fill-opacity:1\" cx=\"977.624\" cy=\"1271.27\" r=\"14\"/>\n",
       "<circle clip-path=\"url(#clip6202)\" style=\"fill:#000000; stroke:none; fill-opacity:1\" cx=\"1506.36\" cy=\"999.221\" r=\"18\"/>\n",
       "<circle clip-path=\"url(#clip6202)\" style=\"fill:#009af9; stroke:none; fill-opacity:1\" cx=\"1506.36\" cy=\"999.221\" r=\"14\"/>\n",
       "<circle clip-path=\"url(#clip6202)\" style=\"fill:#000000; stroke:none; fill-opacity:1\" cx=\"1705.64\" cy=\"982.558\" r=\"18\"/>\n",
       "<circle clip-path=\"url(#clip6202)\" style=\"fill:#009af9; stroke:none; fill-opacity:1\" cx=\"1705.64\" cy=\"982.558\" r=\"14\"/>\n",
       "<circle clip-path=\"url(#clip6202)\" style=\"fill:#000000; stroke:none; fill-opacity:1\" cx=\"261.16\" cy=\"1372.82\" r=\"18\"/>\n",
       "<circle clip-path=\"url(#clip6202)\" style=\"fill:#009af9; stroke:none; fill-opacity:1\" cx=\"261.16\" cy=\"1372.82\" r=\"14\"/>\n",
       "<circle clip-path=\"url(#clip6202)\" style=\"fill:#000000; stroke:none; fill-opacity:1\" cx=\"1047.19\" cy=\"1383.35\" r=\"18\"/>\n",
       "<circle clip-path=\"url(#clip6202)\" style=\"fill:#009af9; stroke:none; fill-opacity:1\" cx=\"1047.19\" cy=\"1383.35\" r=\"14\"/>\n",
       "<circle clip-path=\"url(#clip6202)\" style=\"fill:#000000; stroke:none; fill-opacity:1\" cx=\"1976.35\" cy=\"569.878\" r=\"18\"/>\n",
       "<circle clip-path=\"url(#clip6202)\" style=\"fill:#009af9; stroke:none; fill-opacity:1\" cx=\"1976.35\" cy=\"569.878\" r=\"14\"/>\n",
       "<circle clip-path=\"url(#clip6202)\" style=\"fill:#000000; stroke:none; fill-opacity:1\" cx=\"2152.65\" cy=\"122.235\" r=\"18\"/>\n",
       "<circle clip-path=\"url(#clip6202)\" style=\"fill:#009af9; stroke:none; fill-opacity:1\" cx=\"2152.65\" cy=\"122.235\" r=\"14\"/>\n",
       "<circle clip-path=\"url(#clip6202)\" style=\"fill:#000000; stroke:none; fill-opacity:1\" cx=\"2025.11\" cy=\"484.366\" r=\"18\"/>\n",
       "<circle clip-path=\"url(#clip6202)\" style=\"fill:#009af9; stroke:none; fill-opacity:1\" cx=\"2025.11\" cy=\"484.366\" r=\"14\"/>\n",
       "<polyline clip-path=\"url(#clip6202)\" style=\"stroke:#e26f46; stroke-width:4; stroke-opacity:1; fill:none\" points=\"\n",
       "  222.522,1311.3 410.747,1402.49 523.862,1437.33 619.5,1455.1 723.389,1462.26 819.165,1457.67 921.848,1440.8 1040.82,1405.83 1146.54,1360.84 1239.25,1310.61 \n",
       "  1340.33,1244.38 1442.01,1165.68 1554.43,1064.57 1661.4,954.626 1772.62,826.101 1866.24,706.68 1980.54,546.963 2087.99,382.871 2260.13,91.8006 \n",
       "  \"/>\n",
       "</svg>\n"
      ]
     },
     "execution_count": 2,
     "metadata": {},
     "output_type": "execute_result"
    }
   ],
   "source": [
    "scatter(x,y, legend = false)\n",
    "plot!(x -> (x - 0.25)^2 + 1)"
   ]
  },
  {
   "cell_type": "markdown",
   "metadata": {},
   "source": [
    "Then we fit a linear, a quadratic and a (7th degree)-polynomial model. "
   ]
  },
  {
   "cell_type": "code",
   "execution_count": 3,
   "metadata": {
    "scrolled": true
   },
   "outputs": [
    {
     "data": {
      "text/html": [
       "<table class=\"data-frame\"><thead><tr><th></th><th>x</th><th>x2</th><th>x3</th><th>x4</th><th>x5</th><th>x6</th><th>x7</th></tr><tr><th></th><th>Float64</th><th>Float64</th><th>Float64</th><th>Float64</th><th>Float64</th><th>Float64</th><th>Float64</th></tr></thead><tbody><p>11 rows × 8 columns (omitted printing of 1 columns)</p><tr><th>1</th><td>0.905465</td><td>0.819867</td><td>0.742361</td><td>0.672182</td><td>0.608638</td><td>0.5511</td><td>0.499002</td></tr><tr><th>2</th><td>0.976858</td><td>0.954252</td><td>0.932169</td><td>0.910597</td><td>0.889524</td><td>0.868939</td><td>0.84883</td></tr><tr><th>3</th><td>0.964933</td><td>0.931095</td><td>0.898444</td><td>0.866938</td><td>0.836537</td><td>0.807202</td><td>0.778896</td></tr><tr><th>4</th><td>0.370057</td><td>0.136942</td><td>0.0506764</td><td>0.0187532</td><td>0.00693974</td><td>0.0025681</td><td>0.000950343</td></tr><tr><th>5</th><td>0.626727</td><td>0.392787</td><td>0.24617</td><td>0.154282</td><td>0.0966925</td><td>0.0605998</td><td>0.0379795</td></tr><tr><th>6</th><td>0.723462</td><td>0.523398</td><td>0.378659</td><td>0.273945</td><td>0.198189</td><td>0.143382</td><td>0.103732</td></tr><tr><th>7</th><td>0.0222571</td><td>0.00049538</td><td>1.10257e-5</td><td>2.45401e-7</td><td>5.46192e-9</td><td>1.21567e-10</td><td>2.70572e-12</td></tr><tr><th>8</th><td>0.403828</td><td>0.163077</td><td>0.0658549</td><td>0.026594</td><td>0.0107394</td><td>0.00433686</td><td>0.00175134</td></tr><tr><th>9</th><td>0.854878</td><td>0.730816</td><td>0.624758</td><td>0.534092</td><td>0.456583</td><td>0.390323</td><td>0.333678</td></tr><tr><th>10</th><td>0.940461</td><td>0.884467</td><td>0.831806</td><td>0.782281</td><td>0.735705</td><td>0.691902</td><td>0.650706</td></tr><tr><th>11</th><td>0.87855</td><td>0.77185</td><td>0.678108</td><td>0.595752</td><td>0.523398</td><td>0.459831</td><td>0.403984</td></tr></tbody></table>"
      ],
      "text/latex": [
       "\\begin{tabular}{r|cccccccc}\n",
       "\t& x & x2 & x3 & x4 & x5 & x6 & x7 & \\\\\n",
       "\t\\hline\n",
       "\t& Float64 & Float64 & Float64 & Float64 & Float64 & Float64 & Float64 & \\\\\n",
       "\t\\hline\n",
       "\t1 & 0.905465 & 0.819867 & 0.742361 & 0.672182 & 0.608638 & 0.5511 & 0.499002 & $\\dots$ \\\\\n",
       "\t2 & 0.976858 & 0.954252 & 0.932169 & 0.910597 & 0.889524 & 0.868939 & 0.84883 & $\\dots$ \\\\\n",
       "\t3 & 0.964933 & 0.931095 & 0.898444 & 0.866938 & 0.836537 & 0.807202 & 0.778896 & $\\dots$ \\\\\n",
       "\t4 & 0.370057 & 0.136942 & 0.0506764 & 0.0187532 & 0.00693974 & 0.0025681 & 0.000950343 & $\\dots$ \\\\\n",
       "\t5 & 0.626727 & 0.392787 & 0.24617 & 0.154282 & 0.0966925 & 0.0605998 & 0.0379795 & $\\dots$ \\\\\n",
       "\t6 & 0.723462 & 0.523398 & 0.378659 & 0.273945 & 0.198189 & 0.143382 & 0.103732 & $\\dots$ \\\\\n",
       "\t7 & 0.0222571 & 0.00049538 & 1.10257e-5 & 2.45401e-7 & 5.46192e-9 & 1.21567e-10 & 2.70572e-12 & $\\dots$ \\\\\n",
       "\t8 & 0.403828 & 0.163077 & 0.0658549 & 0.026594 & 0.0107394 & 0.00433686 & 0.00175134 & $\\dots$ \\\\\n",
       "\t9 & 0.854878 & 0.730816 & 0.624758 & 0.534092 & 0.456583 & 0.390323 & 0.333678 & $\\dots$ \\\\\n",
       "\t10 & 0.940461 & 0.884467 & 0.831806 & 0.782281 & 0.735705 & 0.691902 & 0.650706 & $\\dots$ \\\\\n",
       "\t11 & 0.87855 & 0.77185 & 0.678108 & 0.595752 & 0.523398 & 0.459831 & 0.403984 & $\\dots$ \\\\\n",
       "\\end{tabular}\n"
      ],
      "text/plain": [
       "11×8 DataFrame. Omitted printing of 3 columns\n",
       "│ Row │ x         │ x2         │ x3         │ x4         │ x5         │\n",
       "│     │ \u001b[90mFloat64\u001b[39m   │ \u001b[90mFloat64\u001b[39m    │ \u001b[90mFloat64\u001b[39m    │ \u001b[90mFloat64\u001b[39m    │ \u001b[90mFloat64\u001b[39m    │\n",
       "├─────┼───────────┼────────────┼────────────┼────────────┼────────────┤\n",
       "│ 1   │ 0.905465  │ 0.819867   │ 0.742361   │ 0.672182   │ 0.608638   │\n",
       "│ 2   │ 0.976858  │ 0.954252   │ 0.932169   │ 0.910597   │ 0.889524   │\n",
       "│ 3   │ 0.964933  │ 0.931095   │ 0.898444   │ 0.866938   │ 0.836537   │\n",
       "│ 4   │ 0.370057  │ 0.136942   │ 0.0506764  │ 0.0187532  │ 0.00693974 │\n",
       "│ 5   │ 0.626727  │ 0.392787   │ 0.24617    │ 0.154282   │ 0.0966925  │\n",
       "│ 6   │ 0.723462  │ 0.523398   │ 0.378659   │ 0.273945   │ 0.198189   │\n",
       "│ 7   │ 0.0222571 │ 0.00049538 │ 1.10257e-5 │ 2.45401e-7 │ 5.46192e-9 │\n",
       "│ 8   │ 0.403828  │ 0.163077   │ 0.0658549  │ 0.026594   │ 0.0107394  │\n",
       "│ 9   │ 0.854878  │ 0.730816   │ 0.624758   │ 0.534092   │ 0.456583   │\n",
       "│ 10  │ 0.940461  │ 0.884467   │ 0.831806   │ 0.782281   │ 0.735705   │\n",
       "│ 11  │ 0.87855   │ 0.77185    │ 0.678108   │ 0.595752   │ 0.523398   │"
      ]
     },
     "execution_count": 3,
     "metadata": {},
     "output_type": "execute_result"
    }
   ],
   "source": [
    "data = DataFrame(x = x, x2 = x.^2, x3 = x.^3, x4 = x.^4, x5 = x.^5,\n",
    "    x6 = x.^6, x7 = x.^7, y = y)"
   ]
  },
  {
   "cell_type": "code",
   "execution_count": 4,
   "metadata": {},
   "outputs": [
    {
     "data": {
      "text/plain": [
       "StatsModels.DataFrameRegressionModel{LinearModel{LmResp{Array{Float64,1}},DensePredChol{Float64,LinearAlgebra.Cholesky{Float64,Array{Float64,2}}}},Array{Float64,2}}\n",
       "\n",
       "Formula: y ~ 1 + x\n",
       "\n",
       "Coefficients:\n",
       "────────────────────────────────────────────────────\n",
       "             Estimate  Std.Error   t value  Pr(>|t|)\n",
       "────────────────────────────────────────────────────\n",
       "(Intercept)  0.889059  0.0675066  13.17       <1e-6 \n",
       "x            0.58662   0.0891375   6.58107    0.0001\n",
       "────────────────────────────────────────────────────"
      ]
     },
     "execution_count": 4,
     "metadata": {},
     "output_type": "execute_result"
    }
   ],
   "source": [
    "m1 =  lm(@formula(y ~ x), data)"
   ]
  },
  {
   "cell_type": "code",
   "execution_count": 5,
   "metadata": {},
   "outputs": [
    {
     "data": {
      "text/plain": [
       "StatsModels.DataFrameRegressionModel{LinearModel{LmResp{Array{Float64,1}},DensePredChol{Float64,LinearAlgebra.Cholesky{Float64,Array{Float64,2}}}},Array{Float64,2}}\n",
       "\n",
       "Formula: y ~ 1 + x + x2\n",
       "\n",
       "Coefficients:\n",
       "─────────────────────────────────────────────────────\n",
       "              Estimate  Std.Error   t value  Pr(>|t|)\n",
       "─────────────────────────────────────────────────────\n",
       "(Intercept)   1.0559    0.0405463  26.0419     <1e-8 \n",
       "x            -0.389768  0.164314   -2.3721     0.0451\n",
       "x2            0.895724  0.146285    6.12314    0.0003\n",
       "─────────────────────────────────────────────────────"
      ]
     },
     "execution_count": 5,
     "metadata": {},
     "output_type": "execute_result"
    }
   ],
   "source": [
    "m2 = lm(@formula(y ~ 1 + x + x2), data)"
   ]
  },
  {
   "cell_type": "code",
   "execution_count": 6,
   "metadata": {},
   "outputs": [
    {
     "data": {
      "text/plain": [
       "StatsModels.DataFrameRegressionModel{LinearModel{LmResp{Array{Float64,1}},DensePredChol{Float64,LinearAlgebra.Cholesky{Float64,Array{Float64,2}}}},Array{Float64,2}}\n",
       "\n",
       "Formula: y ~ 1 + x + x2 + x3 + x4 + x5 + x6 + x7\n",
       "\n",
       "Coefficients:\n",
       "─────────────────────────────────────────────────────────\n",
       "                Estimate  Std.Error     t value  Pr(>|t|)\n",
       "─────────────────────────────────────────────────────────\n",
       "(Intercept)     0.277652     1.9663   0.141205     0.8967\n",
       "x              39.8393     107.499    0.370602     0.7356\n",
       "x2           -275.286      939.09    -0.293141     0.7885\n",
       "x3            746.409     3585.97     0.208147     0.8484\n",
       "x4           -881.21      7271.15    -0.121193     0.9112\n",
       "x5            287.892     8171.33     0.035232     0.9741\n",
       "x6            232.868     4813.75     0.0483756    0.9645\n",
       "x7           -149.349     1161.26    -0.12861      0.9058\n",
       "─────────────────────────────────────────────────────────"
      ]
     },
     "execution_count": 6,
     "metadata": {},
     "output_type": "execute_result"
    }
   ],
   "source": [
    "m7 = lm(@formula(y ~ 1 + x + x2 + x3 + x4 + x5 + x6 + x7), data)"
   ]
  },
  {
   "cell_type": "code",
   "execution_count": 7,
   "metadata": {},
   "outputs": [
    {
     "data": {
      "text/plain": [
       "0.8279503310505156"
      ]
     },
     "execution_count": 7,
     "metadata": {},
     "output_type": "execute_result"
    }
   ],
   "source": [
    "r2(m1)"
   ]
  },
  {
   "cell_type": "code",
   "execution_count": 8,
   "metadata": {},
   "outputs": [
    {
     "data": {
      "text/plain": [
       "0.9697447587235568"
      ]
     },
     "execution_count": 8,
     "metadata": {},
     "output_type": "execute_result"
    }
   ],
   "source": [
    "r2(m2)"
   ]
  },
  {
   "cell_type": "code",
   "execution_count": 9,
   "metadata": {},
   "outputs": [
    {
     "data": {
      "text/plain": [
       "0.9904988405436079"
      ]
     },
     "execution_count": 9,
     "metadata": {},
     "output_type": "execute_result"
    }
   ],
   "source": [
    "r2(m7)"
   ]
  },
  {
   "cell_type": "code",
   "execution_count": 10,
   "metadata": {},
   "outputs": [],
   "source": [
    "p2 = Poly(coef(m2));\n",
    "p7 = Poly(coef(m7));"
   ]
  },
  {
   "cell_type": "code",
   "execution_count": 11,
   "metadata": {},
   "outputs": [
    {
     "data": {
      "image/svg+xml": [
       "<?xml version=\"1.0\" encoding=\"utf-8\"?>\n",
       "<svg xmlns=\"http://www.w3.org/2000/svg\" xmlns:xlink=\"http://www.w3.org/1999/xlink\" width=\"600\" height=\"400\" viewBox=\"0 0 2400 1600\">\n",
       "<defs>\n",
       "  <clipPath id=\"clip6600\">\n",
       "    <rect x=\"0\" y=\"0\" width=\"2400\" height=\"1600\"/>\n",
       "  </clipPath>\n",
       "</defs>\n",
       "<polygon clip-path=\"url(#clip6600)\" points=\"\n",
       "0,1600 2400,1600 2400,0 0,0 \n",
       "  \" fill=\"#ffffff\" fill-rule=\"evenodd\" fill-opacity=\"1\"/>\n",
       "<defs>\n",
       "  <clipPath id=\"clip6601\">\n",
       "    <rect x=\"480\" y=\"0\" width=\"1681\" height=\"1600\"/>\n",
       "  </clipPath>\n",
       "</defs>\n",
       "<polygon clip-path=\"url(#clip6600)\" points=\"\n",
       "161.394,1503.47 2321.26,1503.47 2321.26,47.2441 161.394,47.2441 \n",
       "  \" fill=\"#ffffff\" fill-rule=\"evenodd\" fill-opacity=\"1\"/>\n",
       "<defs>\n",
       "  <clipPath id=\"clip6602\">\n",
       "    <rect x=\"161\" y=\"47\" width=\"2161\" height=\"1457\"/>\n",
       "  </clipPath>\n",
       "</defs>\n",
       "<polyline clip-path=\"url(#clip6602)\" style=\"stroke:#000000; stroke-width:2; stroke-opacity:0.1; fill:none\" points=\"\n",
       "  305.567,1503.47 305.567,47.2441 \n",
       "  \"/>\n",
       "<polyline clip-path=\"url(#clip6602)\" style=\"stroke:#000000; stroke-width:2; stroke-opacity:0.1; fill:none\" points=\"\n",
       "  777.101,1503.47 777.101,47.2441 \n",
       "  \"/>\n",
       "<polyline clip-path=\"url(#clip6602)\" style=\"stroke:#000000; stroke-width:2; stroke-opacity:0.1; fill:none\" points=\"\n",
       "  1248.63,1503.47 1248.63,47.2441 \n",
       "  \"/>\n",
       "<polyline clip-path=\"url(#clip6602)\" style=\"stroke:#000000; stroke-width:2; stroke-opacity:0.1; fill:none\" points=\"\n",
       "  1720.17,1503.47 1720.17,47.2441 \n",
       "  \"/>\n",
       "<polyline clip-path=\"url(#clip6602)\" style=\"stroke:#000000; stroke-width:2; stroke-opacity:0.1; fill:none\" points=\"\n",
       "  2191.7,1503.47 2191.7,47.2441 \n",
       "  \"/>\n",
       "<polyline clip-path=\"url(#clip6602)\" style=\"stroke:#000000; stroke-width:2; stroke-opacity:0.1; fill:none\" points=\"\n",
       "  161.394,1370.67 2321.26,1370.67 \n",
       "  \"/>\n",
       "<polyline clip-path=\"url(#clip6602)\" style=\"stroke:#000000; stroke-width:2; stroke-opacity:0.1; fill:none\" points=\"\n",
       "  161.394,1095.91 2321.26,1095.91 \n",
       "  \"/>\n",
       "<polyline clip-path=\"url(#clip6602)\" style=\"stroke:#000000; stroke-width:2; stroke-opacity:0.1; fill:none\" points=\"\n",
       "  161.394,821.153 2321.26,821.153 \n",
       "  \"/>\n",
       "<polyline clip-path=\"url(#clip6602)\" style=\"stroke:#000000; stroke-width:2; stroke-opacity:0.1; fill:none\" points=\"\n",
       "  161.394,546.392 2321.26,546.392 \n",
       "  \"/>\n",
       "<polyline clip-path=\"url(#clip6602)\" style=\"stroke:#000000; stroke-width:2; stroke-opacity:0.1; fill:none\" points=\"\n",
       "  161.394,271.632 2321.26,271.632 \n",
       "  \"/>\n",
       "<polyline clip-path=\"url(#clip6600)\" style=\"stroke:#000000; stroke-width:4; stroke-opacity:1; fill:none\" points=\"\n",
       "  161.394,1503.47 2321.26,1503.47 \n",
       "  \"/>\n",
       "<polyline clip-path=\"url(#clip6600)\" style=\"stroke:#000000; stroke-width:4; stroke-opacity:1; fill:none\" points=\"\n",
       "  161.394,1503.47 161.394,47.2441 \n",
       "  \"/>\n",
       "<polyline clip-path=\"url(#clip6600)\" style=\"stroke:#000000; stroke-width:4; stroke-opacity:1; fill:none\" points=\"\n",
       "  305.567,1503.47 305.567,1481.63 \n",
       "  \"/>\n",
       "<polyline clip-path=\"url(#clip6600)\" style=\"stroke:#000000; stroke-width:4; stroke-opacity:1; fill:none\" points=\"\n",
       "  777.101,1503.47 777.101,1481.63 \n",
       "  \"/>\n",
       "<polyline clip-path=\"url(#clip6600)\" style=\"stroke:#000000; stroke-width:4; stroke-opacity:1; fill:none\" points=\"\n",
       "  1248.63,1503.47 1248.63,1481.63 \n",
       "  \"/>\n",
       "<polyline clip-path=\"url(#clip6600)\" style=\"stroke:#000000; stroke-width:4; stroke-opacity:1; fill:none\" points=\"\n",
       "  1720.17,1503.47 1720.17,1481.63 \n",
       "  \"/>\n",
       "<polyline clip-path=\"url(#clip6600)\" style=\"stroke:#000000; stroke-width:4; stroke-opacity:1; fill:none\" points=\"\n",
       "  2191.7,1503.47 2191.7,1481.63 \n",
       "  \"/>\n",
       "<polyline clip-path=\"url(#clip6600)\" style=\"stroke:#000000; stroke-width:4; stroke-opacity:1; fill:none\" points=\"\n",
       "  161.394,1370.67 193.792,1370.67 \n",
       "  \"/>\n",
       "<polyline clip-path=\"url(#clip6600)\" style=\"stroke:#000000; stroke-width:4; stroke-opacity:1; fill:none\" points=\"\n",
       "  161.394,1095.91 193.792,1095.91 \n",
       "  \"/>\n",
       "<polyline clip-path=\"url(#clip6600)\" style=\"stroke:#000000; stroke-width:4; stroke-opacity:1; fill:none\" points=\"\n",
       "  161.394,821.153 193.792,821.153 \n",
       "  \"/>\n",
       "<polyline clip-path=\"url(#clip6600)\" style=\"stroke:#000000; stroke-width:4; stroke-opacity:1; fill:none\" points=\"\n",
       "  161.394,546.392 193.792,546.392 \n",
       "  \"/>\n",
       "<polyline clip-path=\"url(#clip6600)\" style=\"stroke:#000000; stroke-width:4; stroke-opacity:1; fill:none\" points=\"\n",
       "  161.394,271.632 193.792,271.632 \n",
       "  \"/>\n",
       "<g clip-path=\"url(#clip6600)\">\n",
       "<text style=\"fill:#000000; fill-opacity:1; font-family:Arial,Helvetica Neue,Helvetica,sans-serif; font-size:48px; text-anchor:middle;\" transform=\"rotate(0, 305.567, 1557.47)\" x=\"305.567\" y=\"1557.47\">0.00</text>\n",
       "</g>\n",
       "<g clip-path=\"url(#clip6600)\">\n",
       "<text style=\"fill:#000000; fill-opacity:1; font-family:Arial,Helvetica Neue,Helvetica,sans-serif; font-size:48px; text-anchor:middle;\" transform=\"rotate(0, 777.101, 1557.47)\" x=\"777.101\" y=\"1557.47\">0.25</text>\n",
       "</g>\n",
       "<g clip-path=\"url(#clip6600)\">\n",
       "<text style=\"fill:#000000; fill-opacity:1; font-family:Arial,Helvetica Neue,Helvetica,sans-serif; font-size:48px; text-anchor:middle;\" transform=\"rotate(0, 1248.63, 1557.47)\" x=\"1248.63\" y=\"1557.47\">0.50</text>\n",
       "</g>\n",
       "<g clip-path=\"url(#clip6600)\">\n",
       "<text style=\"fill:#000000; fill-opacity:1; font-family:Arial,Helvetica Neue,Helvetica,sans-serif; font-size:48px; text-anchor:middle;\" transform=\"rotate(0, 1720.17, 1557.47)\" x=\"1720.17\" y=\"1557.47\">0.75</text>\n",
       "</g>\n",
       "<g clip-path=\"url(#clip6600)\">\n",
       "<text style=\"fill:#000000; fill-opacity:1; font-family:Arial,Helvetica Neue,Helvetica,sans-serif; font-size:48px; text-anchor:middle;\" transform=\"rotate(0, 2191.7, 1557.47)\" x=\"2191.7\" y=\"1557.47\">1.00</text>\n",
       "</g>\n",
       "<g clip-path=\"url(#clip6600)\">\n",
       "<text style=\"fill:#000000; fill-opacity:1; font-family:Arial,Helvetica Neue,Helvetica,sans-serif; font-size:48px; text-anchor:end;\" transform=\"rotate(0, 137.394, 1388.17)\" x=\"137.394\" y=\"1388.17\">0.6</text>\n",
       "</g>\n",
       "<g clip-path=\"url(#clip6600)\">\n",
       "<text style=\"fill:#000000; fill-opacity:1; font-family:Arial,Helvetica Neue,Helvetica,sans-serif; font-size:48px; text-anchor:end;\" transform=\"rotate(0, 137.394, 1113.41)\" x=\"137.394\" y=\"1113.41\">0.9</text>\n",
       "</g>\n",
       "<g clip-path=\"url(#clip6600)\">\n",
       "<text style=\"fill:#000000; fill-opacity:1; font-family:Arial,Helvetica Neue,Helvetica,sans-serif; font-size:48px; text-anchor:end;\" transform=\"rotate(0, 137.394, 838.653)\" x=\"137.394\" y=\"838.653\">1.2</text>\n",
       "</g>\n",
       "<g clip-path=\"url(#clip6600)\">\n",
       "<text style=\"fill:#000000; fill-opacity:1; font-family:Arial,Helvetica Neue,Helvetica,sans-serif; font-size:48px; text-anchor:end;\" transform=\"rotate(0, 137.394, 563.892)\" x=\"137.394\" y=\"563.892\">1.5</text>\n",
       "</g>\n",
       "<g clip-path=\"url(#clip6600)\">\n",
       "<text style=\"fill:#000000; fill-opacity:1; font-family:Arial,Helvetica Neue,Helvetica,sans-serif; font-size:48px; text-anchor:end;\" transform=\"rotate(0, 137.394, 289.132)\" x=\"137.394\" y=\"289.132\">1.8</text>\n",
       "</g>\n",
       "<circle clip-path=\"url(#clip6602)\" style=\"fill:#000000; stroke:none; fill-opacity:1\" cx=\"2013.4\" cy=\"629.364\" r=\"18\"/>\n",
       "<circle clip-path=\"url(#clip6602)\" style=\"fill:#009af9; stroke:none; fill-opacity:1\" cx=\"2013.4\" cy=\"629.364\" r=\"14\"/>\n",
       "<circle clip-path=\"url(#clip6602)\" style=\"fill:#000000; stroke:none; fill-opacity:1\" cx=\"2148.05\" cy=\"547\" r=\"18\"/>\n",
       "<circle clip-path=\"url(#clip6602)\" style=\"fill:#009af9; stroke:none; fill-opacity:1\" cx=\"2148.05\" cy=\"547\" r=\"14\"/>\n",
       "<circle clip-path=\"url(#clip6602)\" style=\"fill:#000000; stroke:none; fill-opacity:1\" cx=\"2125.56\" cy=\"497.986\" r=\"18\"/>\n",
       "<circle clip-path=\"url(#clip6602)\" style=\"fill:#009af9; stroke:none; fill-opacity:1\" cx=\"2125.56\" cy=\"497.986\" r=\"14\"/>\n",
       "<circle clip-path=\"url(#clip6602)\" style=\"fill:#000000; stroke:none; fill-opacity:1\" cx=\"1003.54\" cy=\"933.926\" r=\"18\"/>\n",
       "<circle clip-path=\"url(#clip6602)\" style=\"fill:#009af9; stroke:none; fill-opacity:1\" cx=\"1003.54\" cy=\"933.926\" r=\"14\"/>\n",
       "<circle clip-path=\"url(#clip6602)\" style=\"fill:#000000; stroke:none; fill-opacity:1\" cx=\"1487.66\" cy=\"833.658\" r=\"18\"/>\n",
       "<circle clip-path=\"url(#clip6602)\" style=\"fill:#009af9; stroke:none; fill-opacity:1\" cx=\"1487.66\" cy=\"833.658\" r=\"14\"/>\n",
       "<circle clip-path=\"url(#clip6602)\" style=\"fill:#000000; stroke:none; fill-opacity:1\" cx=\"1670.11\" cy=\"827.516\" r=\"18\"/>\n",
       "<circle clip-path=\"url(#clip6602)\" style=\"fill:#009af9; stroke:none; fill-opacity:1\" cx=\"1670.11\" cy=\"827.516\" r=\"14\"/>\n",
       "<circle clip-path=\"url(#clip6602)\" style=\"fill:#000000; stroke:none; fill-opacity:1\" cx=\"347.547\" cy=\"971.353\" r=\"18\"/>\n",
       "<circle clip-path=\"url(#clip6602)\" style=\"fill:#009af9; stroke:none; fill-opacity:1\" cx=\"347.547\" cy=\"971.353\" r=\"14\"/>\n",
       "<circle clip-path=\"url(#clip6602)\" style=\"fill:#000000; stroke:none; fill-opacity:1\" cx=\"1067.24\" cy=\"975.232\" r=\"18\"/>\n",
       "<circle clip-path=\"url(#clip6602)\" style=\"fill:#009af9; stroke:none; fill-opacity:1\" cx=\"1067.24\" cy=\"975.232\" r=\"14\"/>\n",
       "<circle clip-path=\"url(#clip6602)\" style=\"fill:#000000; stroke:none; fill-opacity:1\" cx=\"1917.98\" cy=\"675.418\" r=\"18\"/>\n",
       "<circle clip-path=\"url(#clip6602)\" style=\"fill:#009af9; stroke:none; fill-opacity:1\" cx=\"1917.98\" cy=\"675.418\" r=\"14\"/>\n",
       "<circle clip-path=\"url(#clip6602)\" style=\"fill:#000000; stroke:none; fill-opacity:1\" cx=\"2079.4\" cy=\"510.434\" r=\"18\"/>\n",
       "<circle clip-path=\"url(#clip6602)\" style=\"fill:#009af9; stroke:none; fill-opacity:1\" cx=\"2079.4\" cy=\"510.434\" r=\"14\"/>\n",
       "<circle clip-path=\"url(#clip6602)\" style=\"fill:#000000; stroke:none; fill-opacity:1\" cx=\"1962.63\" cy=\"643.902\" r=\"18\"/>\n",
       "<circle clip-path=\"url(#clip6602)\" style=\"fill:#009af9; stroke:none; fill-opacity:1\" cx=\"1962.63\" cy=\"643.902\" r=\"14\"/>\n",
       "<polyline clip-path=\"url(#clip6602)\" style=\"stroke:#e26f46; stroke-width:4; stroke-opacity:1; fill:none\" points=\"\n",
       "  312.17,948.677 484.509,982.287 588.078,995.128 675.644,1001.68 770.765,1004.32 858.458,1002.62 952.475,996.408 1061.4,983.518 1158.2,966.935 1243.09,948.423 \n",
       "  1335.64,924.012 1428.74,895.006 1531.67,857.742 1629.61,817.222 1731.44,769.852 1817.16,725.838 1921.82,666.973 2020.2,606.495 2177.81,499.217 \n",
       "  \"/>\n",
       "<polyline clip-path=\"url(#clip6602)\" style=\"stroke:#3da44d; stroke-width:4; stroke-opacity:1; fill:none\" points=\"\n",
       "  275.514,947.231 454.087,976.15 561.403,986.454 652.136,991.023 750.699,991.683 841.565,988.322 938.982,980.489 1051.85,965.941 1152.15,948.081 1240.11,928.602 \n",
       "  1336.01,903.298 1432.48,873.564 1539.13,835.694 1640.61,794.791 1746.13,747.225 1834.95,703.203 1943.39,644.525 2045.33,584.42 2208.65,478.138 \n",
       "  \"/>\n",
       "<polyline clip-path=\"url(#clip6602)\" style=\"stroke:#c271d2; stroke-width:4; stroke-opacity:1; fill:none\" points=\"\n",
       "  222.522,3822.59 227.525,3658.1 232.528,3498.46 237.531,3343.59 249.095,3003.36 260.66,2687.04 272.225,2393.56 283.789,2121.87 295.354,1870.97 306.919,1639.88 \n",
       "  318.483,1427.64 330.048,1233.32 341.612,1056.01 353.177,894.853 364.742,748.988 376.306,617.597 399.436,395.073 422.565,221.218 436.464,137.77 450.364,68.6818 \n",
       "  464.264,12.8412 478.164,-30.8159 505.963,-85.5963 533.762,-103.229 557.267,-94.2449 580.771,-67.3667 604.275,-26.0096 627.779,26.737 729.907,325.887 824.06,606.408 \n",
       "  874.531,731.477 925.002,831.641 983.477,914.384 1041.95,962.768 1145.88,979.136 1237.02,946.316 1336.39,893.966 1436.35,850.633 1546.86,827.72 1652.01,821.783 \n",
       "  1761.35,803.764 1853.38,754.993 1909.57,705.368 1965.75,643.645 2018.56,582.663 2071.38,533.178 2113.68,516.613 2155.99,537.829 2177.14,569.014 2198.29,618.03 \n",
       "  2219.45,688.443 2240.6,784.235 2247.11,819.5 2253.62,857.724 2260.13,899.049 \n",
       "  \"/>\n",
       "</svg>\n"
      ]
     },
     "execution_count": 11,
     "metadata": {},
     "output_type": "execute_result"
    }
   ],
   "source": [
    "scatter(x,y, legend = false)\n",
    "plot!(x -> (x - 0.25)^2 + 1, ylim = [0.5,2])\n",
    "plot!(x -> p2(x))\n",
    "plot!(x -> p7(x))"
   ]
  },
  {
   "cell_type": "markdown",
   "metadata": {},
   "source": [
    "Apply the fitted data to a new data set from the same model"
   ]
  },
  {
   "cell_type": "code",
   "execution_count": 12,
   "metadata": {},
   "outputs": [
    {
     "data": {
      "image/svg+xml": [
       "<?xml version=\"1.0\" encoding=\"utf-8\"?>\n",
       "<svg xmlns=\"http://www.w3.org/2000/svg\" xmlns:xlink=\"http://www.w3.org/1999/xlink\" width=\"600\" height=\"400\" viewBox=\"0 0 2400 1600\">\n",
       "<defs>\n",
       "  <clipPath id=\"clip7000\">\n",
       "    <rect x=\"0\" y=\"0\" width=\"2400\" height=\"1600\"/>\n",
       "  </clipPath>\n",
       "</defs>\n",
       "<polygon clip-path=\"url(#clip7000)\" points=\"\n",
       "0,1600 2400,1600 2400,0 0,0 \n",
       "  \" fill=\"#ffffff\" fill-rule=\"evenodd\" fill-opacity=\"1\"/>\n",
       "<defs>\n",
       "  <clipPath id=\"clip7001\">\n",
       "    <rect x=\"480\" y=\"0\" width=\"1681\" height=\"1600\"/>\n",
       "  </clipPath>\n",
       "</defs>\n",
       "<polygon clip-path=\"url(#clip7000)\" points=\"\n",
       "161.394,1503.47 2321.26,1503.47 2321.26,47.2441 161.394,47.2441 \n",
       "  \" fill=\"#ffffff\" fill-rule=\"evenodd\" fill-opacity=\"1\"/>\n",
       "<defs>\n",
       "  <clipPath id=\"clip7002\">\n",
       "    <rect x=\"161\" y=\"47\" width=\"2161\" height=\"1457\"/>\n",
       "  </clipPath>\n",
       "</defs>\n",
       "<polyline clip-path=\"url(#clip7002)\" style=\"stroke:#000000; stroke-width:2; stroke-opacity:0.1; fill:none\" points=\"\n",
       "  333.191,1503.47 333.191,47.2441 \n",
       "  \"/>\n",
       "<polyline clip-path=\"url(#clip7002)\" style=\"stroke:#000000; stroke-width:2; stroke-opacity:0.1; fill:none\" points=\"\n",
       "  786.95,1503.47 786.95,47.2441 \n",
       "  \"/>\n",
       "<polyline clip-path=\"url(#clip7002)\" style=\"stroke:#000000; stroke-width:2; stroke-opacity:0.1; fill:none\" points=\"\n",
       "  1240.71,1503.47 1240.71,47.2441 \n",
       "  \"/>\n",
       "<polyline clip-path=\"url(#clip7002)\" style=\"stroke:#000000; stroke-width:2; stroke-opacity:0.1; fill:none\" points=\"\n",
       "  1694.47,1503.47 1694.47,47.2441 \n",
       "  \"/>\n",
       "<polyline clip-path=\"url(#clip7002)\" style=\"stroke:#000000; stroke-width:2; stroke-opacity:0.1; fill:none\" points=\"\n",
       "  2148.23,1503.47 2148.23,47.2441 \n",
       "  \"/>\n",
       "<polyline clip-path=\"url(#clip7002)\" style=\"stroke:#000000; stroke-width:2; stroke-opacity:0.1; fill:none\" points=\"\n",
       "  161.394,1370.67 2321.26,1370.67 \n",
       "  \"/>\n",
       "<polyline clip-path=\"url(#clip7002)\" style=\"stroke:#000000; stroke-width:2; stroke-opacity:0.1; fill:none\" points=\"\n",
       "  161.394,1095.91 2321.26,1095.91 \n",
       "  \"/>\n",
       "<polyline clip-path=\"url(#clip7002)\" style=\"stroke:#000000; stroke-width:2; stroke-opacity:0.1; fill:none\" points=\"\n",
       "  161.394,821.153 2321.26,821.153 \n",
       "  \"/>\n",
       "<polyline clip-path=\"url(#clip7002)\" style=\"stroke:#000000; stroke-width:2; stroke-opacity:0.1; fill:none\" points=\"\n",
       "  161.394,546.392 2321.26,546.392 \n",
       "  \"/>\n",
       "<polyline clip-path=\"url(#clip7002)\" style=\"stroke:#000000; stroke-width:2; stroke-opacity:0.1; fill:none\" points=\"\n",
       "  161.394,271.632 2321.26,271.632 \n",
       "  \"/>\n",
       "<polyline clip-path=\"url(#clip7000)\" style=\"stroke:#000000; stroke-width:4; stroke-opacity:1; fill:none\" points=\"\n",
       "  161.394,1503.47 2321.26,1503.47 \n",
       "  \"/>\n",
       "<polyline clip-path=\"url(#clip7000)\" style=\"stroke:#000000; stroke-width:4; stroke-opacity:1; fill:none\" points=\"\n",
       "  161.394,1503.47 161.394,47.2441 \n",
       "  \"/>\n",
       "<polyline clip-path=\"url(#clip7000)\" style=\"stroke:#000000; stroke-width:4; stroke-opacity:1; fill:none\" points=\"\n",
       "  333.191,1503.47 333.191,1481.63 \n",
       "  \"/>\n",
       "<polyline clip-path=\"url(#clip7000)\" style=\"stroke:#000000; stroke-width:4; stroke-opacity:1; fill:none\" points=\"\n",
       "  786.95,1503.47 786.95,1481.63 \n",
       "  \"/>\n",
       "<polyline clip-path=\"url(#clip7000)\" style=\"stroke:#000000; stroke-width:4; stroke-opacity:1; fill:none\" points=\"\n",
       "  1240.71,1503.47 1240.71,1481.63 \n",
       "  \"/>\n",
       "<polyline clip-path=\"url(#clip7000)\" style=\"stroke:#000000; stroke-width:4; stroke-opacity:1; fill:none\" points=\"\n",
       "  1694.47,1503.47 1694.47,1481.63 \n",
       "  \"/>\n",
       "<polyline clip-path=\"url(#clip7000)\" style=\"stroke:#000000; stroke-width:4; stroke-opacity:1; fill:none\" points=\"\n",
       "  2148.23,1503.47 2148.23,1481.63 \n",
       "  \"/>\n",
       "<polyline clip-path=\"url(#clip7000)\" style=\"stroke:#000000; stroke-width:4; stroke-opacity:1; fill:none\" points=\"\n",
       "  161.394,1370.67 193.792,1370.67 \n",
       "  \"/>\n",
       "<polyline clip-path=\"url(#clip7000)\" style=\"stroke:#000000; stroke-width:4; stroke-opacity:1; fill:none\" points=\"\n",
       "  161.394,1095.91 193.792,1095.91 \n",
       "  \"/>\n",
       "<polyline clip-path=\"url(#clip7000)\" style=\"stroke:#000000; stroke-width:4; stroke-opacity:1; fill:none\" points=\"\n",
       "  161.394,821.153 193.792,821.153 \n",
       "  \"/>\n",
       "<polyline clip-path=\"url(#clip7000)\" style=\"stroke:#000000; stroke-width:4; stroke-opacity:1; fill:none\" points=\"\n",
       "  161.394,546.392 193.792,546.392 \n",
       "  \"/>\n",
       "<polyline clip-path=\"url(#clip7000)\" style=\"stroke:#000000; stroke-width:4; stroke-opacity:1; fill:none\" points=\"\n",
       "  161.394,271.632 193.792,271.632 \n",
       "  \"/>\n",
       "<g clip-path=\"url(#clip7000)\">\n",
       "<text style=\"fill:#000000; fill-opacity:1; font-family:Arial,Helvetica Neue,Helvetica,sans-serif; font-size:48px; text-anchor:middle;\" transform=\"rotate(0, 333.191, 1557.47)\" x=\"333.191\" y=\"1557.47\">0.00</text>\n",
       "</g>\n",
       "<g clip-path=\"url(#clip7000)\">\n",
       "<text style=\"fill:#000000; fill-opacity:1; font-family:Arial,Helvetica Neue,Helvetica,sans-serif; font-size:48px; text-anchor:middle;\" transform=\"rotate(0, 786.95, 1557.47)\" x=\"786.95\" y=\"1557.47\">0.25</text>\n",
       "</g>\n",
       "<g clip-path=\"url(#clip7000)\">\n",
       "<text style=\"fill:#000000; fill-opacity:1; font-family:Arial,Helvetica Neue,Helvetica,sans-serif; font-size:48px; text-anchor:middle;\" transform=\"rotate(0, 1240.71, 1557.47)\" x=\"1240.71\" y=\"1557.47\">0.50</text>\n",
       "</g>\n",
       "<g clip-path=\"url(#clip7000)\">\n",
       "<text style=\"fill:#000000; fill-opacity:1; font-family:Arial,Helvetica Neue,Helvetica,sans-serif; font-size:48px; text-anchor:middle;\" transform=\"rotate(0, 1694.47, 1557.47)\" x=\"1694.47\" y=\"1557.47\">0.75</text>\n",
       "</g>\n",
       "<g clip-path=\"url(#clip7000)\">\n",
       "<text style=\"fill:#000000; fill-opacity:1; font-family:Arial,Helvetica Neue,Helvetica,sans-serif; font-size:48px; text-anchor:middle;\" transform=\"rotate(0, 2148.23, 1557.47)\" x=\"2148.23\" y=\"1557.47\">1.00</text>\n",
       "</g>\n",
       "<g clip-path=\"url(#clip7000)\">\n",
       "<text style=\"fill:#000000; fill-opacity:1; font-family:Arial,Helvetica Neue,Helvetica,sans-serif; font-size:48px; text-anchor:end;\" transform=\"rotate(0, 137.394, 1388.17)\" x=\"137.394\" y=\"1388.17\">0.6</text>\n",
       "</g>\n",
       "<g clip-path=\"url(#clip7000)\">\n",
       "<text style=\"fill:#000000; fill-opacity:1; font-family:Arial,Helvetica Neue,Helvetica,sans-serif; font-size:48px; text-anchor:end;\" transform=\"rotate(0, 137.394, 1113.41)\" x=\"137.394\" y=\"1113.41\">0.9</text>\n",
       "</g>\n",
       "<g clip-path=\"url(#clip7000)\">\n",
       "<text style=\"fill:#000000; fill-opacity:1; font-family:Arial,Helvetica Neue,Helvetica,sans-serif; font-size:48px; text-anchor:end;\" transform=\"rotate(0, 137.394, 838.653)\" x=\"137.394\" y=\"838.653\">1.2</text>\n",
       "</g>\n",
       "<g clip-path=\"url(#clip7000)\">\n",
       "<text style=\"fill:#000000; fill-opacity:1; font-family:Arial,Helvetica Neue,Helvetica,sans-serif; font-size:48px; text-anchor:end;\" transform=\"rotate(0, 137.394, 563.892)\" x=\"137.394\" y=\"563.892\">1.5</text>\n",
       "</g>\n",
       "<g clip-path=\"url(#clip7000)\">\n",
       "<text style=\"fill:#000000; fill-opacity:1; font-family:Arial,Helvetica Neue,Helvetica,sans-serif; font-size:48px; text-anchor:end;\" transform=\"rotate(0, 137.394, 289.132)\" x=\"137.394\" y=\"289.132\">1.8</text>\n",
       "</g>\n",
       "<circle clip-path=\"url(#clip7002)\" style=\"fill:#000000; stroke:none; fill-opacity:1\" cx=\"761.6\" cy=\"992.294\" r=\"18\"/>\n",
       "<circle clip-path=\"url(#clip7002)\" style=\"fill:#009af9; stroke:none; fill-opacity:1\" cx=\"761.6\" cy=\"992.294\" r=\"14\"/>\n",
       "<circle clip-path=\"url(#clip7002)\" style=\"fill:#000000; stroke:none; fill-opacity:1\" cx=\"962.132\" cy=\"979.757\" r=\"18\"/>\n",
       "<circle clip-path=\"url(#clip7002)\" style=\"fill:#009af9; stroke:none; fill-opacity:1\" cx=\"962.132\" cy=\"979.757\" r=\"14\"/>\n",
       "<circle clip-path=\"url(#clip7002)\" style=\"fill:#000000; stroke:none; fill-opacity:1\" cx=\"900.765\" cy=\"974.258\" r=\"18\"/>\n",
       "<circle clip-path=\"url(#clip7002)\" style=\"fill:#009af9; stroke:none; fill-opacity:1\" cx=\"900.765\" cy=\"974.258\" r=\"14\"/>\n",
       "<circle clip-path=\"url(#clip7002)\" style=\"fill:#000000; stroke:none; fill-opacity:1\" cx=\"347.547\" cy=\"938.044\" r=\"18\"/>\n",
       "<circle clip-path=\"url(#clip7002)\" style=\"fill:#009af9; stroke:none; fill-opacity:1\" cx=\"347.547\" cy=\"938.044\" r=\"14\"/>\n",
       "<circle clip-path=\"url(#clip7002)\" style=\"fill:#000000; stroke:none; fill-opacity:1\" cx=\"1220.04\" cy=\"966.532\" r=\"18\"/>\n",
       "<circle clip-path=\"url(#clip7002)\" style=\"fill:#009af9; stroke:none; fill-opacity:1\" cx=\"1220.04\" cy=\"966.532\" r=\"14\"/>\n",
       "<circle clip-path=\"url(#clip7002)\" style=\"fill:#000000; stroke:none; fill-opacity:1\" cx=\"716.106\" cy=\"991.71\" r=\"18\"/>\n",
       "<circle clip-path=\"url(#clip7002)\" style=\"fill:#009af9; stroke:none; fill-opacity:1\" cx=\"716.106\" cy=\"991.71\" r=\"14\"/>\n",
       "<circle clip-path=\"url(#clip7002)\" style=\"fill:#000000; stroke:none; fill-opacity:1\" cx=\"2060.95\" cy=\"554.477\" r=\"18\"/>\n",
       "<circle clip-path=\"url(#clip7002)\" style=\"fill:#009af9; stroke:none; fill-opacity:1\" cx=\"2060.95\" cy=\"554.477\" r=\"14\"/>\n",
       "<circle clip-path=\"url(#clip7002)\" style=\"fill:#000000; stroke:none; fill-opacity:1\" cx=\"2148.05\" cy=\"508.34\" r=\"18\"/>\n",
       "<circle clip-path=\"url(#clip7002)\" style=\"fill:#009af9; stroke:none; fill-opacity:1\" cx=\"2148.05\" cy=\"508.34\" r=\"14\"/>\n",
       "<circle clip-path=\"url(#clip7002)\" style=\"fill:#000000; stroke:none; fill-opacity:1\" cx=\"789.967\" cy=\"1053.06\" r=\"18\"/>\n",
       "<circle clip-path=\"url(#clip7002)\" style=\"fill:#009af9; stroke:none; fill-opacity:1\" cx=\"789.967\" cy=\"1053.06\" r=\"14\"/>\n",
       "<circle clip-path=\"url(#clip7002)\" style=\"fill:#000000; stroke:none; fill-opacity:1\" cx=\"2124.02\" cy=\"503.987\" r=\"18\"/>\n",
       "<circle clip-path=\"url(#clip7002)\" style=\"fill:#009af9; stroke:none; fill-opacity:1\" cx=\"2124.02\" cy=\"503.987\" r=\"14\"/>\n",
       "<circle clip-path=\"url(#clip7002)\" style=\"fill:#000000; stroke:none; fill-opacity:1\" cx=\"1341.9\" cy=\"939.524\" r=\"18\"/>\n",
       "<circle clip-path=\"url(#clip7002)\" style=\"fill:#009af9; stroke:none; fill-opacity:1\" cx=\"1341.9\" cy=\"939.524\" r=\"14\"/>\n",
       "<polyline clip-path=\"url(#clip7002)\" style=\"stroke:#e26f46; stroke-width:4; stroke-opacity:1; fill:none\" points=\"\n",
       "  312.17,941.658 484.509,978.897 588.078,993.331 675.644,1000.88 770.765,1004.25 858.458,1002.9 952.475,996.709 1061.4,983.386 1158.2,966.008 1243.09,946.482 \n",
       "  1335.64,920.628 1428.74,889.816 1531.67,850.138 1629.61,806.917 1731.44,756.322 1817.16,709.261 1921.82,646.267 2020.2,581.497 2177.81,466.513 \n",
       "  \"/>\n",
       "<polyline clip-path=\"url(#clip7002)\" style=\"stroke:#3da44d; stroke-width:4; stroke-opacity:1; fill:none\" points=\"\n",
       "  275.514,940.955 454.087,973.265 561.403,985.042 652.136,990.525 750.699,991.834 841.565,988.755 938.982,980.886 1051.85,965.859 1152.15,947.18 1240.11,926.677 \n",
       "  1336.01,899.932 1432.48,868.408 1539.13,828.158 1640.61,784.602 1746.13,733.875 1834.95,686.875 1943.39,624.166 2045.33,559.877 2208.65,446.094 \n",
       "  \"/>\n",
       "<polyline clip-path=\"url(#clip7002)\" style=\"stroke:#c271d2; stroke-width:4; stroke-opacity:1; fill:none\" points=\"\n",
       "  222.522,4994.35 227.525,4788.94 232.528,4589.43 237.531,4395.71 249.095,3969.49 260.66,3572.32 272.225,3202.92 283.789,2860.04 295.354,2542.46 306.919,2249 \n",
       "  318.483,1978.5 330.048,1729.85 341.612,1501.97 353.177,1293.8 364.742,1104.31 376.306,932.521 399.436,638.225 422.565,403.594 436.464,288.423 450.364,190.921 \n",
       "  464.264,109.745 478.164,43.6115 505.963,-48.379 533.762,-94.1913 557.267,-103.045 580.771,-89.3525 604.275,-57.2425 627.779,-10.4515 729.907,287.93 824.06,583.474 \n",
       "  874.531,716.886 925.002,823.889 983.477,911.969 1041.95,962.845 1145.88,978.343 1237.02,942.444 1336.39,888.028 1436.35,845.758 1546.86,826.034 1652.01,820.062 \n",
       "  1761.35,792.883 1853.38,728.576 1909.57,668.892 1965.75,601.276 2018.56,544.434 2071.38,516.681 2092.53,520.826 2113.68,537.627 2134.84,570.228 2155.99,622.199 \n",
       "  2177.14,697.564 2198.29,800.835 2219.45,937.051 2240.6,1111.81 2247.11,1174.31 2253.62,1241.23 2260.13,1312.77 \n",
       "  \"/>\n",
       "</svg>\n"
      ]
     },
     "execution_count": 12,
     "metadata": {},
     "output_type": "execute_result"
    }
   ],
   "source": [
    "Random.seed!(1)\n",
    "xnew = rand(11);\n",
    "n = Normal(0, 0.03); enew = rand(n, 11);\n",
    "ynew = ((xnew .- 0.25).^2 .+ 1) + enew;\n",
    "\n",
    "scatter(xnew,ynew, legend = false)\n",
    "plot!(x -> (x - 0.25)^2 + 1, ylim = [0.5,2])\n",
    "plot!(x -> p2(x))\n",
    "plot!(x -> p7(x))"
   ]
  },
  {
   "cell_type": "markdown",
   "metadata": {},
   "source": [
    "We can see that the model behaves poorly on new test data because the model was overfitted to the training data. "
   ]
  },
  {
   "cell_type": "markdown",
   "metadata": {},
   "source": [
    "## Model selection \n",
    "\n",
    "Our example is based on cement hardening data. Four predictor variables (as a percentage by weight) are used to predict the dependent variable `heat` measuring􏰸 calories of heat evolved per gram of cement after 180 days of hardening.\n",
    "\n",
    "- `heat`: heat of hardening after 180 days (cal/gm)\n",
    "- `x1` : 3CaO.Al2O3 (tricalcium aluminate)                \n",
    "- `x2`: 3CaO.SiO2 (tricalcium silicate)                  \n",
    "- `x3`: 4CaO.Al2O3.Fe2O3 (tetracalcium aluminoferrite)   \n",
    "- `x4`: 2CaO.SiO2 (beta-dicalcium silicate)              \n",
    "                                                                                       \n",
    "                                                              \n",
    "**Source**                                        \n",
    "\n",
    "Woods,H., H. Steinour, H. Starke (1932). Effect of Composition of Portland Cement on Heat Evolved during Hardening, *Industrial and Engineering Chemistry*, vol. 24 no. 11, 1207-1214.                          \n",
    "                                                              \n",
    "**Reference**                                                \n",
    "    \n",
    "Hald,A. (1960). *Statistical Theory with Engineering Applications*, Wiley.\n"
   ]
  },
  {
   "cell_type": "code",
   "execution_count": 2,
   "metadata": {},
   "outputs": [],
   "source": [
    "heat = [78.5000\n",
    "   74.3000\n",
    "  104.3000\n",
    "   87.6000\n",
    "   95.9000\n",
    "  109.2000\n",
    "  102.7000\n",
    "   72.5000\n",
    "   93.1000\n",
    "  115.9000\n",
    "   83.8000\n",
    "  113.3000\n",
    "  109.4000];"
   ]
  },
  {
   "cell_type": "code",
   "execution_count": 3,
   "metadata": {},
   "outputs": [],
   "source": [
    " x1 = [ 7,  1 ,   11 ,11 , 7 , 11 , 3 , 1 , 2 , 21 , 1 , 11 ,10 ];\n",
    " x2 = [ 26, 29,    56, 31, 52,  55, 71, 31, 54,  47, 40,  66, 68];\n",
    " x3 = [  6, 15,     8,  8,  6,   9, 17, 22, 18,   4, 23,   9,  8];\n",
    " x4  =[ 60, 52,    20, 47, 33,  22,  6, 44, 22,  26, 34,  12, 12];"
   ]
  },
  {
   "cell_type": "markdown",
   "metadata": {},
   "source": [
    "Notice that the explanatory variables sum up approximately to 100."
   ]
  },
  {
   "cell_type": "code",
   "execution_count": 4,
   "metadata": {},
   "outputs": [
    {
     "data": {
      "text/plain": [
       "13-element Array{Int64,1}:\n",
       " 99\n",
       " 97\n",
       " 95\n",
       " 97\n",
       " 98\n",
       " 97\n",
       " 97\n",
       " 98\n",
       " 96\n",
       " 98\n",
       " 98\n",
       " 98\n",
       " 98"
      ]
     },
     "execution_count": 4,
     "metadata": {},
     "output_type": "execute_result"
    }
   ],
   "source": [
    "x1 + x2 + x3 + x4"
   ]
  },
  {
   "cell_type": "code",
   "execution_count": 7,
   "metadata": {},
   "outputs": [
    {
     "data": {
      "text/html": [
       "<table class=\"data-frame\"><thead><tr><th></th><th>heat</th><th>x1</th><th>x2</th><th>x3</th><th>x4</th></tr><tr><th></th><th>Float64</th><th>Int64</th><th>Int64</th><th>Int64</th><th>Int64</th></tr></thead><tbody><p>13 rows × 5 columns</p><tr><th>1</th><td>78.5</td><td>7</td><td>26</td><td>6</td><td>60</td></tr><tr><th>2</th><td>74.3</td><td>1</td><td>29</td><td>15</td><td>52</td></tr><tr><th>3</th><td>104.3</td><td>11</td><td>56</td><td>8</td><td>20</td></tr><tr><th>4</th><td>87.6</td><td>11</td><td>31</td><td>8</td><td>47</td></tr><tr><th>5</th><td>95.9</td><td>7</td><td>52</td><td>6</td><td>33</td></tr><tr><th>6</th><td>109.2</td><td>11</td><td>55</td><td>9</td><td>22</td></tr><tr><th>7</th><td>102.7</td><td>3</td><td>71</td><td>17</td><td>6</td></tr><tr><th>8</th><td>72.5</td><td>1</td><td>31</td><td>22</td><td>44</td></tr><tr><th>9</th><td>93.1</td><td>2</td><td>54</td><td>18</td><td>22</td></tr><tr><th>10</th><td>115.9</td><td>21</td><td>47</td><td>4</td><td>26</td></tr><tr><th>11</th><td>83.8</td><td>1</td><td>40</td><td>23</td><td>34</td></tr><tr><th>12</th><td>113.3</td><td>11</td><td>66</td><td>9</td><td>12</td></tr><tr><th>13</th><td>109.4</td><td>10</td><td>68</td><td>8</td><td>12</td></tr></tbody></table>"
      ],
      "text/latex": [
       "\\begin{tabular}{r|ccccc}\n",
       "\t& heat & x1 & x2 & x3 & x4\\\\\n",
       "\t\\hline\n",
       "\t& Float64 & Int64 & Int64 & Int64 & Int64\\\\\n",
       "\t\\hline\n",
       "\t1 & 78.5 & 7 & 26 & 6 & 60 \\\\\n",
       "\t2 & 74.3 & 1 & 29 & 15 & 52 \\\\\n",
       "\t3 & 104.3 & 11 & 56 & 8 & 20 \\\\\n",
       "\t4 & 87.6 & 11 & 31 & 8 & 47 \\\\\n",
       "\t5 & 95.9 & 7 & 52 & 6 & 33 \\\\\n",
       "\t6 & 109.2 & 11 & 55 & 9 & 22 \\\\\n",
       "\t7 & 102.7 & 3 & 71 & 17 & 6 \\\\\n",
       "\t8 & 72.5 & 1 & 31 & 22 & 44 \\\\\n",
       "\t9 & 93.1 & 2 & 54 & 18 & 22 \\\\\n",
       "\t10 & 115.9 & 21 & 47 & 4 & 26 \\\\\n",
       "\t11 & 83.8 & 1 & 40 & 23 & 34 \\\\\n",
       "\t12 & 113.3 & 11 & 66 & 9 & 12 \\\\\n",
       "\t13 & 109.4 & 10 & 68 & 8 & 12 \\\\\n",
       "\\end{tabular}\n"
      ],
      "text/plain": [
       "13×5 DataFrame\n",
       "│ Row │ heat    │ x1    │ x2    │ x3    │ x4    │\n",
       "│     │ \u001b[90mFloat64\u001b[39m │ \u001b[90mInt64\u001b[39m │ \u001b[90mInt64\u001b[39m │ \u001b[90mInt64\u001b[39m │ \u001b[90mInt64\u001b[39m │\n",
       "├─────┼─────────┼───────┼───────┼───────┼───────┤\n",
       "│ 1   │ 78.5    │ 7     │ 26    │ 6     │ 60    │\n",
       "│ 2   │ 74.3    │ 1     │ 29    │ 15    │ 52    │\n",
       "│ 3   │ 104.3   │ 11    │ 56    │ 8     │ 20    │\n",
       "│ 4   │ 87.6    │ 11    │ 31    │ 8     │ 47    │\n",
       "│ 5   │ 95.9    │ 7     │ 52    │ 6     │ 33    │\n",
       "│ 6   │ 109.2   │ 11    │ 55    │ 9     │ 22    │\n",
       "│ 7   │ 102.7   │ 3     │ 71    │ 17    │ 6     │\n",
       "│ 8   │ 72.5    │ 1     │ 31    │ 22    │ 44    │\n",
       "│ 9   │ 93.1    │ 2     │ 54    │ 18    │ 22    │\n",
       "│ 10  │ 115.9   │ 21    │ 47    │ 4     │ 26    │\n",
       "│ 11  │ 83.8    │ 1     │ 40    │ 23    │ 34    │\n",
       "│ 12  │ 113.3   │ 11    │ 66    │ 9     │ 12    │\n",
       "│ 13  │ 109.4   │ 10    │ 68    │ 8     │ 12    │"
      ]
     },
     "execution_count": 7,
     "metadata": {},
     "output_type": "execute_result"
    }
   ],
   "source": [
    "cement = DataFrame(heat = heat, x1=x1, x2=x2, x3=x3, x4=x4)"
   ]
  },
  {
   "cell_type": "markdown",
   "metadata": {},
   "source": [
    "\"What approximating model to use?\" is the primary focus of this example. The sample size is quite quite small with respect to the number of variables. \n",
    "\n",
    "We can use several different approaches:\n",
    "\n",
    "- Test methods\n",
    "- Penalty methods (AIC, BIC) \n",
    "- Cross validation\n",
    "\n",
    "### Test methods\n",
    "\n",
    "**Step-up method**. Fit first a null model and then try to improve the fit by adding predictors. The criterion is the  p-value for an F-test (equivalent for single terms is the t-test). "
   ]
  },
  {
   "cell_type": "code",
   "execution_count": 10,
   "metadata": {},
   "outputs": [
    {
     "data": {
      "text/plain": []
     },
     "execution_count": 10,
     "metadata": {},
     "output_type": "execute_result"
    },
    {
     "name": "stdout",
     "output_type": "stream",
     "text": [
      "\n",
      "══════════════════════════════════════════════════════════════════════════════\n",
      "                              Best model results                              \n",
      "══════════════════════════════════════════════════════════════════════════════\n",
      "                                                                              \n",
      "                                     Dependent variable: heat                   \n",
      "                                     ─────────────────────────────────────────\n",
      "                                                                              \n",
      " Selected covariates                 Coef.\n",
      "──────────────────────────────────────────────────────────────────────────────\n",
      " x1                                  1.451939  \n",
      " x2                                  0.416109  \n",
      " x4                                  -0.236542 \n",
      " _cons                               71.648338 \n",
      "──────────────────────────────────────────────────────────────────────────────\n",
      " Observations                        13        \n",
      " Adjusted R²                         0.976447  \n",
      " F-statistic                         166.831665\n",
      "──────────────────────────────────────────────────────────────────────────────\n"
     ]
    }
   ],
   "source": [
    "using GlobalSearchRegression\n",
    "gsreg(\"heat x1 x2 x3 x4\", cement)"
   ]
  },
  {
   "cell_type": "code",
   "execution_count": 38,
   "metadata": {},
   "outputs": [
    {
     "name": "stdout",
     "output_type": "stream",
     "text": [
      "m0 = \n",
      "Linear regression model:\n",
      "    heat ~ 1\n",
      "\n",
      "Estimated Coefficients:\n",
      "                   Estimate      SE      tStat      pValue  \n",
      "                   ________    ______    _____    __________\n",
      "    (Intercept)     95.423     4.1724    22.87    2.8992e-11\n",
      "\n",
      "Number of observations: 13, Error degrees of freedom: 12\n",
      "Root Mean Squared Error: 15\n"
     ]
    }
   ],
   "source": [
    "m0 = fitlm(cement, 'heat ~ 1')"
   ]
  },
  {
   "cell_type": "code",
   "execution_count": 39,
   "metadata": {},
   "outputs": [
    {
     "name": "stdout",
     "output_type": "stream",
     "text": [
      "   pValue for adding x1 is 0.004552\n",
      "   pValue for adding x2 is 0.00066482\n",
      "   pValue for adding x3 is 0.059762\n",
      "   pValue for adding x4 is 0.00057623\n",
      "1. Adding x4, FStat = 22.7985, pValue = 0.000576232\n",
      "   pValue for adding x1 is 1.1053e-06\n",
      "   pValue for adding x2 is 0.68668\n",
      "   pValue for adding x3 is 8.3755e-05\n",
      "2. Adding x1, FStat = 108.2239, pValue = 1.105281e-06\n",
      "   pValue for adding x2 is 0.051687\n",
      "   pValue for adding x3 is 0.069692\n",
      "   No candidate terms to remove\n",
      "ans = \n",
      "Linear regression model:\n",
      "    heat ~ 1 + x1 + x4\n",
      "\n",
      "Estimated Coefficients:\n",
      "                   Estimate       SE        tStat       pValue  \n",
      "                   ________    ________    _______    __________\n",
      "    (Intercept)       103.1       2.124      48.54    3.3243e-13\n",
      "    x1                 1.44     0.13842     10.403    1.1053e-06\n",
      "    x4             -0.61395    0.048645    -12.621    1.8149e-07\n",
      "\n",
      "Number of observations: 13, Error degrees of freedom: 10\n",
      "Root Mean Squared Error: 2.73\n",
      "R-squared: 0.972,  Adjusted R-Squared: 0.967\n",
      "F-statistic vs. constant model: 177, p-value = 1.58e-08\n"
     ]
    }
   ],
   "source": [
    "step(m0, 'Criterion', 'sse','NSteps', 3,  'Upper', 'linear', 'Lower', 'linear', 'Verbose', 2)"
   ]
  },
  {
   "cell_type": "markdown",
   "metadata": {},
   "source": [
    "The final model contains `x1` and `x4`.\n",
    "\n",
    "**Step-down methods**. Fit the complete linear model. Then drop predictor until no further step improves the criterion. "
   ]
  },
  {
   "cell_type": "code",
   "execution_count": 40,
   "metadata": {},
   "outputs": [
    {
     "name": "stdout",
     "output_type": "stream",
     "text": [
      "mlin = \n",
      "Linear regression model:\n",
      "    heat ~ 1 + x1 + x2 + x3 + x4\n",
      "\n",
      "Estimated Coefficients:\n",
      "                   Estimate      SE        tStat       pValue \n",
      "                   ________    _______    ________    ________\n",
      "    (Intercept)      62.405     70.071      0.8906     0.39913\n",
      "    x1               1.5511    0.74477      2.0827    0.070822\n",
      "    x2              0.51017    0.72379     0.70486      0.5009\n",
      "    x3              0.10191    0.75471     0.13503     0.89592\n",
      "    x4             -0.14406    0.70905    -0.20317     0.84407\n",
      "\n",
      "Number of observations: 13, Error degrees of freedom: 8\n",
      "Root Mean Squared Error: 2.45\n",
      "R-squared: 0.982,  Adjusted R-Squared: 0.974\n",
      "F-statistic vs. constant model: 111, p-value = 4.76e-07\n"
     ]
    }
   ],
   "source": [
    "mlin = fitlm(cement, 'heat ~ 1 + x1 + x2 + x3 + x4')"
   ]
  },
  {
   "cell_type": "code",
   "execution_count": 41,
   "metadata": {},
   "outputs": [
    {
     "name": "stdout",
     "output_type": "stream",
     "text": [
      "   No candidate terms to add\n",
      "   pValue for removing x1 is 0.070822\n",
      "   pValue for removing x2 is 0.5009\n",
      "   pValue for removing x3 is 0.89592\n",
      "   pValue for removing x4 is 0.84407\n",
      "1. Removing x3, FStat = 0.018233, pValue = 0.89592\n",
      "   No candidate terms to add\n",
      "   pValue for removing x1 is 5.7808e-07\n",
      "   pValue for removing x2 is 0.051687\n",
      "   pValue for removing x4 is 0.2054\n",
      "2. Removing x4, FStat = 1.8633, pValue = 0.2054\n",
      "   No candidate terms to add\n",
      "   pValue for removing x1 is 2.6922e-07\n",
      "   pValue for removing x2 is 5.029e-08\n",
      "ans = \n",
      "Linear regression model:\n",
      "    heat ~ 1 + x1 + x2\n",
      "\n",
      "Estimated Coefficients:\n",
      "                   Estimate       SE       tStat       pValue  \n",
      "                   ________    ________    ______    __________\n",
      "    (Intercept)     52.577       2.2862    22.998    5.4566e-10\n",
      "    x1              1.4683       0.1213    12.105    2.6922e-07\n",
      "    x2             0.66225     0.045855    14.442     5.029e-08\n",
      "\n",
      "Number of observations: 13, Error degrees of freedom: 10\n",
      "Root Mean Squared Error: 2.41\n",
      "R-squared: 0.979,  Adjusted R-Squared: 0.974\n",
      "F-statistic vs. constant model: 230, p-value = 4.41e-09\n"
     ]
    }
   ],
   "source": [
    "step(mlin, 'Criterion', 'sse','NSteps', 3,  'Upper', 'constant', 'Lower', 'constant', 'Verbose', 2)"
   ]
  },
  {
   "cell_type": "markdown",
   "metadata": {},
   "source": [
    "This time the chosen model contains `x1` and `x2`.  \n",
    "\n",
    "We can alternate the step-up and step-down procedures. "
   ]
  },
  {
   "cell_type": "code",
   "execution_count": 42,
   "metadata": {},
   "outputs": [
    {
     "name": "stdout",
     "output_type": "stream",
     "text": [
      "   pValue for adding x1 is 0.004552\n",
      "   pValue for adding x2 is 0.00066482\n",
      "   pValue for adding x3 is 0.059762\n",
      "   pValue for adding x4 is 0.00057623\n",
      "1. Adding x4, FStat = 22.7985, pValue = 0.000576232\n",
      "   pValue for adding x1 is 1.1053e-06\n",
      "   pValue for adding x2 is 0.68668\n",
      "   pValue for adding x3 is 8.3755e-05\n",
      "2. Adding x1, FStat = 108.2239, pValue = 1.105281e-06\n",
      "   pValue for adding x2 is 0.051687\n",
      "   pValue for adding x3 is 0.069692\n",
      "   pValue for removing x4 is 1.8149e-07\n",
      "ans = \n",
      "Linear regression model:\n",
      "    heat ~ 1 + x1 + x4\n",
      "\n",
      "Estimated Coefficients:\n",
      "                   Estimate       SE        tStat       pValue  \n",
      "                   ________    ________    _______    __________\n",
      "    (Intercept)       103.1       2.124      48.54    3.3243e-13\n",
      "    x1                 1.44     0.13842     10.403    1.1053e-06\n",
      "    x4             -0.61395    0.048645    -12.621    1.8149e-07\n",
      "\n",
      "Number of observations: 13, Error degrees of freedom: 10\n",
      "Root Mean Squared Error: 2.73\n",
      "R-squared: 0.972,  Adjusted R-Squared: 0.967\n",
      "F-statistic vs. constant model: 177, p-value = 1.58e-08\n"
     ]
    }
   ],
   "source": [
    "step(m0, 'Criterion', 'sse','NSteps', 3,  'Upper', 'linear', 'Lower', 'constant', 'Verbose', 2)"
   ]
  },
  {
   "cell_type": "markdown",
   "metadata": {},
   "source": [
    "### Penalty methods\n",
    "\n",
    "We can use AIC or BIC (Bayesian). These methods aim at selecting models that are better for prediction. They can be used with the step-up or step-down strategies. \n",
    "\n",
    "Add predictors until no further step improves the AIC"
   ]
  },
  {
   "cell_type": "code",
   "execution_count": 43,
   "metadata": {},
   "outputs": [
    {
     "name": "stdout",
     "output_type": "stream",
     "text": [
      "   Change in AIC for adding x1 is -7.925\n",
      "   Change in AIC for adding x2 is -12.2664\n",
      "   Change in AIC for adding x3 is -2.377\n",
      "   Change in AIC for adding x4 is -12.5928\n",
      "1. Adding x4, AIC = 95.744\n",
      "   Change in AIC for adding x1 is -30.1099\n",
      "   Change in AIC for adding x2 is 1.7777\n",
      "   Change in AIC for adding x3 is -18.9991\n",
      "2. Adding x1, AIC = 65.6341\n",
      "   Change in AIC for adding x2 is -3.7678\n",
      "   Change in AIC for adding x3 is -3.0142\n",
      "3. Adding x2, AIC = 61.8663\n",
      "ans = \n",
      "Linear regression model:\n",
      "    heat ~ 1 + x1 + x2 + x4\n",
      "\n",
      "Estimated Coefficients:\n",
      "                   Estimate      SE       tStat       pValue  \n",
      "                   ________    _______    ______    __________\n",
      "    (Intercept)      71.648     14.142    5.0662    0.00067533\n",
      "    x1               1.4519      0.117     12.41    5.7808e-07\n",
      "    x2              0.41611    0.18561    2.2418      0.051687\n",
      "    x4             -0.23654    0.17329    -1.365        0.2054\n",
      "\n",
      "Number of observations: 13, Error degrees of freedom: 9\n",
      "Root Mean Squared Error: 2.31\n",
      "R-squared: 0.982,  Adjusted R-Squared: 0.976\n",
      "F-statistic vs. constant model: 167, p-value = 3.32e-08\n"
     ]
    }
   ],
   "source": [
    "step(m0, 'Criterion', 'AIC','NSteps', 3,  'Upper', 'linear', 'Lower', 'linear', 'Verbose', 2)"
   ]
  },
  {
   "cell_type": "markdown",
   "metadata": {},
   "source": [
    "Fit the complete linear model. Then drop predictor until no further step improves the AIC."
   ]
  },
  {
   "cell_type": "code",
   "execution_count": 44,
   "metadata": {},
   "outputs": [
    {
     "name": "stdout",
     "output_type": "stream",
     "text": [
      "   No candidate terms to add\n",
      "   Change in AIC for removing x1 is 3.6316\n",
      "   Change in AIC for removing x2 is -1.2167\n",
      "   Change in AIC for removing x3 is -1.9704\n",
      "   Change in AIC for removing x4 is -1.9331\n",
      "1. Removing x3, AIC = 61.866\n",
      "   No candidate terms to add\n",
      "   Change in AIC for removing x1 is 35.6554\n",
      "   Change in AIC for removing x2 is 3.7678\n",
      "   Change in AIC for removing x4 is 0.44611\n",
      "ans = \n",
      "Linear regression model:\n",
      "    heat ~ 1 + x1 + x2 + x4\n",
      "\n",
      "Estimated Coefficients:\n",
      "                   Estimate      SE       tStat       pValue  \n",
      "                   ________    _______    ______    __________\n",
      "    (Intercept)      71.648     14.142    5.0662    0.00067533\n",
      "    x1               1.4519      0.117     12.41    5.7808e-07\n",
      "    x2              0.41611    0.18561    2.2418      0.051687\n",
      "    x4             -0.23654    0.17329    -1.365        0.2054\n",
      "\n",
      "Number of observations: 13, Error degrees of freedom: 9\n",
      "Root Mean Squared Error: 2.31\n",
      "R-squared: 0.982,  Adjusted R-Squared: 0.976\n",
      "F-statistic vs. constant model: 167, p-value = 3.32e-08\n"
     ]
    }
   ],
   "source": [
    "step(mlin, 'Criterion', 'AIC','NSteps', 3,  'Upper', 'linear', 'Lower', 'constant', 'Verbose', 2)"
   ]
  },
  {
   "cell_type": "markdown",
   "metadata": {},
   "source": [
    "AIC promotes the use of the variable `x4` in both strategies. \n",
    "\n",
    "Next we use BIC."
   ]
  },
  {
   "cell_type": "code",
   "execution_count": 45,
   "metadata": {},
   "outputs": [
    {
     "name": "stdout",
     "output_type": "stream",
     "text": [
      "   Change in BIC for adding x1 is -7.36\n",
      "   Change in BIC for adding x2 is -11.7015\n",
      "   Change in BIC for adding x3 is -1.8121\n",
      "   Change in BIC for adding x4 is -12.0278\n",
      "1. Adding x4, BIC = 96.8739\n",
      "   Change in BIC for adding x1 is -29.545\n",
      "   Change in BIC for adding x2 is 2.3426\n",
      "   Change in BIC for adding x3 is -18.4341\n",
      "2. Adding x1, BIC = 67.329\n",
      "   Change in BIC for adding x2 is -3.2029\n",
      "   Change in BIC for adding x3 is -2.4492\n",
      "3. Adding x2, BIC = 64.1261\n",
      "ans = \n",
      "Linear regression model:\n",
      "    heat ~ 1 + x1 + x2 + x4\n",
      "\n",
      "Estimated Coefficients:\n",
      "                   Estimate      SE       tStat       pValue  \n",
      "                   ________    _______    ______    __________\n",
      "    (Intercept)      71.648     14.142    5.0662    0.00067533\n",
      "    x1               1.4519      0.117     12.41    5.7808e-07\n",
      "    x2              0.41611    0.18561    2.2418      0.051687\n",
      "    x4             -0.23654    0.17329    -1.365        0.2054\n",
      "\n",
      "Number of observations: 13, Error degrees of freedom: 9\n",
      "Root Mean Squared Error: 2.31\n",
      "R-squared: 0.982,  Adjusted R-Squared: 0.976\n",
      "F-statistic vs. constant model: 167, p-value = 3.32e-08\n"
     ]
    }
   ],
   "source": [
    "step(m0, 'Criterion', 'BIC','NSteps', 3,  'Upper', 'linear', 'Lower', 'linear', 'Verbose', 2)"
   ]
  },
  {
   "cell_type": "code",
   "execution_count": 46,
   "metadata": {},
   "outputs": [
    {
     "name": "stdout",
     "output_type": "stream",
     "text": [
      "   No candidate terms to add\n",
      "   Change in BIC for removing x1 is 3.0666\n",
      "   Change in BIC for removing x2 is -1.7817\n",
      "   Change in BIC for removing x3 is -2.5354\n",
      "   Change in BIC for removing x4 is -2.498\n",
      "1. Removing x3, BIC = 64.126\n",
      "   No candidate terms to add\n",
      "   Change in BIC for removing x1 is 35.0905\n",
      "   Change in BIC for removing x2 is 3.2029\n",
      "   Change in BIC for removing x4 is -0.11884\n",
      "2. Removing x4, BIC = 64.007\n",
      "   Change in BIC for adding x3 is 0.15615\n",
      "   Change in BIC for removing x1 is 33.1931\n",
      "   Change in BIC for removing x2 is 37.5345\n",
      "ans = \n",
      "Linear regression model:\n",
      "    heat ~ 1 + x1 + x2\n",
      "\n",
      "Estimated Coefficients:\n",
      "                   Estimate       SE       tStat       pValue  \n",
      "                   ________    ________    ______    __________\n",
      "    (Intercept)     52.577       2.2862    22.998    5.4566e-10\n",
      "    x1              1.4683       0.1213    12.105    2.6922e-07\n",
      "    x2             0.66225     0.045855    14.442     5.029e-08\n",
      "\n",
      "Number of observations: 13, Error degrees of freedom: 10\n",
      "Root Mean Squared Error: 2.41\n",
      "R-squared: 0.979,  Adjusted R-Squared: 0.974\n",
      "F-statistic vs. constant model: 230, p-value = 4.41e-09\n"
     ]
    }
   ],
   "source": [
    "step(mlin, 'Criterion', 'BIC','NSteps', 3,  'Upper', 'linear', 'Lower', 'constant', 'Verbose', 2)"
   ]
  },
  {
   "cell_type": "markdown",
   "metadata": {},
   "source": [
    "In the step-down strategy BIC gives as the result the same predictors `x1`, `x2` of the test methods."
   ]
  },
  {
   "cell_type": "markdown",
   "metadata": {},
   "source": [
    "**Note**:  \"The importance of carefully defining a small set of candidate models, based on the objective and what is known about the problem, cannot be overemphasized.\" (Burnham and Anderson, 2002)."
   ]
  },
  {
   "cell_type": "markdown",
   "metadata": {},
   "source": [
    "### Air Pollution"
   ]
  },
  {
   "cell_type": "markdown",
   "metadata": {},
   "source": [
    "From the Bijma et al. (2016, p. 325) book: \"In New York, in the summer of 1973, daily measurements were carried out to study the relation between the ozone concentration and a number of other meteorological variables. In addition to the ozone concentration, the solar radiation, the wind speed, and the temperature were measured. Ozone is an important component of smog. It forms from nitrogen dioxides and volatile hydrocarbons under the influence of sunlight. In warm weather with little wind, the ozone concentration can rise sharply and cause respiratory problems.\"\n",
    "\n",
    "The data set is the following one."
   ]
  },
  {
   "cell_type": "code",
   "execution_count": 16,
   "metadata": {},
   "outputs": [],
   "source": [
    "X = [ 41 190 11.9066 19.4444444444444 5 1\n",
    " 36 118 12.872 22.2222222222222 5 2\n",
    " 12 149 20.2734 23.3333333333333 5 3\n",
    " 18 313 18.5035 16.6666666666667 5 4\n",
    " 23 299 13.8374 18.3333333333333 5 7\n",
    " 19 99 22.2042 15 5 8\n",
    " 8 19 32.3409 16.1111111111111 5 9\n",
    "16 256 15.6073 20.5555555555556 5 12\n",
    "11 290 14.8028 18.8888888888889 5 13\n",
    "14 274 17.5381 20 5 14\n",
    "18 65 21.2388 14.4444444444444 5 15\n",
    "14 334 18.5035 17.7777777777778 5 16\n",
    "34 307 19.308 18.8888888888889 5 17\n",
    "6 78 29.6056 13.8888888888889 5 18\n",
    "30 322 18.5035 20 5 19\n",
    "11 44 15.6073 16.6666666666667 5 20\n",
    "1 8 15.6073 15 5 21\n",
    "11 320 26.7094 22.7777777777778 5 22\n",
    "4 25 15.6073 16.1111111111111 5 23\n",
    "32 92 19.308 16.1111111111111 5 24\n",
    "23 13 19.308 19.4444444444444 5 28\n",
    "45 252 23.9741 27.2222222222222 5 29\n",
    "115 223 9.1713 26.1111111111111 5 30\n",
    "37 279 11.9066 24.4444444444444 5 31\n",
    "29 127 15.6073 27.7777777777778 6 7\n",
    "71 291 22.2042 32.2222222222222 6 9\n",
    "39 323 18.5035 30.5555555555556 6 10\n",
    "23 148 12.872 27.7777777777778 6 13\n",
    "21 191 23.9741 25 6 16\n",
    "37 284 33.3063 22.2222222222222 6 17\n",
    "20 37 14.8028 18.3333333333333 6 18\n",
    "12 120 18.5035 22.7777777777778 6 19\n",
    "13 137 16.5727 24.4444444444444 6 20\n",
    "135 269 6.5969 28.8888888888889 7 1\n",
    "49 248 14.8028 29.4444444444444 7 2\n",
    "32 236 14.8028 27.2222222222222 7 3\n",
    "64 175 7.4014 28.3333333333333 7 5\n",
    "40 314 17.5381 28.3333333333333 7 6\n",
    "77 276 8.2059 31.1111111111111 7 7\n",
    "97 267 10.1367 33.3333333333333 7 8\n",
    "97 272 9.1713 33.3333333333333 7 9\n",
    "85 175 11.9066 31.6666666666667 7 10\n",
    "10 264 23.0087 22.7777777777778 7 12\n",
    "27 175 23.9741 27.2222222222222 7 13\n",
    "7 48 23.0087 26.6666666666667 7 15\n",
    "48 260 11.1021 27.2222222222222 7 16\n",
    "35 274 16.5727 27.7777777777778 7 17\n",
    "61 285 10.1367 28.8888888888889 7 18\n",
    "79 187 8.2059 30.5555555555556 7 19\n",
    "63 220 18.5035 29.4444444444444 7 20\n",
    "16 7 11.1021 23.3333333333333 7 21\n",
    "80 294 13.8374 30 7 24\n",
    "108 223 12.872 29.4444444444444 7 25\n",
    "20 81 13.8374 27.7777777777778 7 26\n",
    "52 82 19.308 30 7 27\n",
    "82 213 11.9066 31.1111111111111 7 28\n",
    "50 275 11.9066 30 7 29\n",
    "64 253 11.9066 28.3333333333333 7 30\n",
    "59 254 14.8028 27.2222222222222 7 31\n",
    "39 83 11.1021 27.2222222222222 8 1\n",
    "9 24 22.2042 27.2222222222222 8 2\n",
    "16 77 11.9066 27.7777777777778 8 3\n",
    "122 255 6.436 31.6666666666667 8 7\n",
    " 89 229 16.5727 32.2222222222222 8 8\n",
    " 110 207 12.872 32.2222222222222 8 9\n",
    " 44 192 18.5035 30 8 12\n",
    " 28 273 18.5035 27.7777777777778 8 13\n",
    " 65 157 15.6073 26.6666666666667 8 14\n",
    " 22 71 16.5727 25 8 16\n",
    " 59 51 10.1367 26.1111111111111 8 17\n",
    " 23 115 11.9066 24.4444444444444 8 18\n",
    " 31 244 17.5381 25.5555555555556 8 19\n",
    " 44 190 16.5727 25.5555555555556 8 20\n",
    " 21 259 24.9395 25 8 21\n",
    " 9 36 23.0087 22.2222222222222 8 22\n",
    " 45 212 15.6073 26.1111111111111 8 24\n",
    " 168 238 5.4706 27.2222222222222 8 25\n",
    " 73 215 12.872 30 8 26\n",
    " 76 203 15.6073 36.1111111111111 8 28\n",
    " 118 225 3.7007 34.4444444444444 8 29\n",
    " 84 237 10.1367 35.5555555555556 8 30\n",
    " 85 188 10.1367 34.4444444444444 8 31\n",
    " 96 167 11.1021 32.7777777777778 9 1\n",
    " 78 197 8.2059 33.3333333333333 9 2\n",
    " 73 183 4.5052 33.8888888888889 9 3\n",
    " 91 189 7.4014 33.8888888888889 9 4\n",
    " 47 95 11.9066 30.5555555555556 9 5\n",
    " 32 92 24.9395 28.8888888888889 9 6\n",
    " 20 252 17.5381 26.6666666666667 9 7\n",
    " 23 220 16.5727 25.5555555555556 9 8\n",
    " 21 230 17.5381 23.8888888888889 9 9\n",
    " 24 259 15.6073 22.7777777777778 9 10\n",
    " 44 236 23.9741 27.2222222222222 9 11\n",
    " 21 259 24.9395 24.4444444444444 9 12\n",
    " 28 238 10.1367 25 9 13\n",
    " 9 24 17.5381 21.6666666666667 9 14\n",
    " 13 112 18.5035 21.6666666666667 9 15\n",
    " 46 237 11.1021 25.5555555555556 9 16\n",
    " 18 224 22.2042 19.4444444444444 9 17\n",
    " 13 27 16.5727 24.4444444444444 9 18\n",
    " 24 238 16.5727 20 9 19\n",
    " 16 201 12.872 27.7777777777778 9 20\n",
    " 13 238 20.2734 17.7777777777778 9 21\n",
    " 23 14 14.8028 21.6666666666667 9 22\n",
    " 36 139 16.5727 27.2222222222222 9 23\n",
    " 7 49 16.5727 20.5555555555556 9 24\n",
    " 14 20 26.7094 17.2222222222222 9 25\n",
    " 30 193 11.1021 21.1111111111111 9 26\n",
    " 14 191 23.0087 23.8888888888889 9 28\n",
    " 18 131 12.872 24.4444444444444 9 29\n",
    " 20 223 18.5035 20 9 30];"
   ]
  },
  {
   "cell_type": "code",
   "execution_count": 17,
   "metadata": {},
   "outputs": [],
   "source": [
    "ozone = X(:,1);   solar = X(:,2);  wind = X(:,3); temp = X(:,4); "
   ]
  },
  {
   "cell_type": "markdown",
   "metadata": {},
   "source": [
    "Variables: \n",
    "- `ozone` concentration measured in parts per billion (ppb); 1 ppb corre- sponds to 2 µ g /m3. \n",
    "- `solar` radiation (langley, Ly). It expresses the amount of solar energy per surface unit, 1 Ly = 41840 J / m2. \n",
    "- `wind` speed km/h\n",
    "- `temp` temperature in degrees Celsius"
   ]
  },
  {
   "cell_type": "code",
   "execution_count": 18,
   "metadata": {},
   "outputs": [],
   "source": [
    "data = table(ozone, solar, wind, temp);"
   ]
  },
  {
   "cell_type": "code",
   "execution_count": 19,
   "metadata": {},
   "outputs": [
    {
     "name": "stdout",
     "output_type": "stream",
     "text": [
      "data =\n",
      "  111x4 table\n",
      "    ozone    solar     wind      temp \n",
      "    _____    _____    ______    ______\n",
      "      41      190     11.907    19.444\n",
      "      36      118     12.872    22.222\n",
      "      12      149     20.273    23.333\n",
      "      18      313     18.503    16.667\n",
      "      23      299     13.837    18.333\n",
      "      19       99     22.204        15\n",
      "       8       19     32.341    16.111\n",
      "      16      256     15.607    20.556\n",
      "      11      290     14.803    18.889\n",
      "      14      274     17.538        20\n",
      "      18       65     21.239    14.444\n",
      "      14      334     18.503    17.778\n",
      "      34      307     19.308    18.889\n",
      "       6       78     29.606    13.889\n",
      "      30      322     18.503        20\n",
      "      11       44     15.607    16.667\n",
      "       1        8     15.607        15\n",
      "      11      320     26.709    22.778\n",
      "       4       25     15.607    16.111\n",
      "      32       92     19.308    16.111\n",
      "      23       13     19.308    19.444\n",
      "      45      252     23.974    27.222\n",
      "     115      223     9.1713    26.111\n",
      "      37      279     11.907    24.444\n",
      "      29      127     15.607    27.778\n",
      "      71      291     22.204    32.222\n",
      "      39      323     18.503    30.556\n",
      "      23      148     12.872    27.778\n",
      "      21      191     23.974        25\n",
      "      37      284     33.306    22.222\n",
      "      20       37     14.803    18.333\n",
      "      12      120     18.503    22.778\n",
      "      13      137     16.573    24.444\n",
      "     135      269     6.5969    28.889\n",
      "      49      248     14.803    29.444\n",
      "      32      236     14.803    27.222\n",
      "      64      175     7.4014    28.333\n",
      "      40      314     17.538    28.333\n",
      "      77      276     8.2059    31.111\n",
      "      97      267     10.137    33.333\n",
      "      97      272     9.1713    33.333\n",
      "      85      175     11.907    31.667\n",
      "      10      264     23.009    22.778\n",
      "      27      175     23.974    27.222\n",
      "       7       48     23.009    26.667\n",
      "      48      260     11.102    27.222\n",
      "      35      274     16.573    27.778\n",
      "      61      285     10.137    28.889\n",
      "      79      187     8.2059    30.556\n",
      "      63      220     18.503    29.444\n",
      "      16        7     11.102    23.333\n",
      "      80      294     13.837        30\n",
      "     108      223     12.872    29.444\n",
      "      20       81     13.837    27.778\n",
      "      52       82     19.308        30\n",
      "      82      213     11.907    31.111\n",
      "      50      275     11.907        30\n",
      "      64      253     11.907    28.333\n",
      "      59      254     14.803    27.222\n",
      "      39       83     11.102    27.222\n",
      "       9       24     22.204    27.222\n",
      "      16       77     11.907    27.778\n",
      "     122      255      6.436    31.667\n",
      "      89      229     16.573    32.222\n",
      "     110      207     12.872    32.222\n",
      "      44      192     18.503        30\n",
      "      28      273     18.503    27.778\n",
      "      65      157     15.607    26.667\n",
      "      22       71     16.573        25\n",
      "      59       51     10.137    26.111\n",
      "      23      115     11.907    24.444\n",
      "      31      244     17.538    25.556\n",
      "      44      190     16.573    25.556\n",
      "      21      259     24.939        25\n",
      "       9       36     23.009    22.222\n",
      "      45      212     15.607    26.111\n",
      "     168      238     5.4706    27.222\n",
      "      73      215     12.872        30\n",
      "      76      203     15.607    36.111\n",
      "     118      225     3.7007    34.444\n",
      "      84      237     10.137    35.556\n",
      "      85      188     10.137    34.444\n",
      "      96      167     11.102    32.778\n",
      "      78      197     8.2059    33.333\n",
      "      73      183     4.5052    33.889\n",
      "      91      189     7.4014    33.889\n",
      "      47       95     11.907    30.556\n",
      "      32       92     24.939    28.889\n",
      "      20      252     17.538    26.667\n",
      "      23      220     16.573    25.556\n",
      "      21      230     17.538    23.889\n",
      "      24      259     15.607    22.778\n",
      "      44      236     23.974    27.222\n",
      "      21      259     24.939    24.444\n",
      "      28      238     10.137        25\n",
      "       9       24     17.538    21.667\n",
      "      13      112     18.503    21.667\n",
      "      46      237     11.102    25.556\n",
      "      18      224     22.204    19.444\n",
      "      13       27     16.573    24.444\n",
      "      24      238     16.573        20\n",
      "      16      201     12.872    27.778\n",
      "      13      238     20.273    17.778\n",
      "      23       14     14.803    21.667\n",
      "      36      139     16.573    27.222\n",
      "       7       49     16.573    20.556\n",
      "      14       20     26.709    17.222\n",
      "      30      193     11.102    21.111\n",
      "      14      191     23.009    23.889\n",
      "      18      131     12.872    24.444\n",
      "      20      223     18.503        20\n"
     ]
    }
   ],
   "source": [
    "data"
   ]
  },
  {
   "cell_type": "code",
   "execution_count": 21,
   "metadata": {},
   "outputs": [
    {
     "data": {
      "image/png": "[encoded data removed]",
      "text/plain": [
       "<IPython.core.display.Image object>"
      ]
     },
     "metadata": {},
     "output_type": "display_data"
    }
   ],
   "source": [
    "plotmatrix(table2array(data))"
   ]
  },
  {
   "cell_type": "markdown",
   "metadata": {},
   "source": [
    "We fit a linear additive model \n",
    "$$\n",
    "Y = \\beta_0 + \\beta_1 \\texttt{solar} + \\beta_2 \\texttt{wind} + \\beta_3 \\texttt{temp} + e\n",
    "$$"
   ]
  },
  {
   "cell_type": "code",
   "execution_count": 29,
   "metadata": {},
   "outputs": [
    {
     "name": "stdout",
     "output_type": "stream",
     "text": [
      "mlin = \n",
      "Linear regression model:\n",
      "    ozone ~ 1 + solar + wind + temp\n",
      "\n",
      "Estimated Coefficients:\n",
      "                   Estimate       SE        tStat        pValue  \n",
      "                   ________    ________    ________    __________\n",
      "    (Intercept)     -11.475      15.646    -0.73344       0.46489\n",
      "    solar          0.059821    0.023186        2.58      0.011237\n",
      "    wind            -2.0718     0.40672     -5.0941    1.5159e-06\n",
      "    temp             2.9738     0.45635      6.5164    2.4235e-09\n",
      "\n",
      "Number of observations: 111, Error degrees of freedom: 107\n",
      "Root Mean Squared Error: 21.2\n",
      "R-squared: 0.606,  Adjusted R-Squared: 0.595\n",
      "F-statistic vs. constant model: 54.8, p-value = 1.51e-21\n"
     ]
    }
   ],
   "source": [
    "mlin = fitlm(data, 'ozone ~ solar + wind + temp')"
   ]
  },
  {
   "cell_type": "markdown",
   "metadata": {},
   "source": [
    "Then we do  model selection including possibly also interactions."
   ]
  },
  {
   "cell_type": "code",
   "execution_count": 30,
   "metadata": {},
   "outputs": [
    {
     "name": "stdout",
     "output_type": "stream",
     "text": [
      "   Change in AIC for adding solar:wind is -8.9758\n",
      "   Change in AIC for adding solar:temp is -10.2823\n",
      "   Change in AIC for adding wind:temp is -16.1119\n",
      "1. Adding wind:temp, AIC = 980.6052\n",
      "   Change in AIC for adding solar:wind is -0.74421\n",
      "   Change in AIC for adding solar:temp is -3.987\n",
      "2. Adding solar:temp, AIC = 976.6182\n",
      "   Change in AIC for adding solar:wind is 0.75935\n",
      "   Change in AIC for removing wind:temp is 9.8166\n",
      "out = \n",
      "Linear regression model:\n",
      "    ozone ~ 1 + solar*temp + wind*temp\n",
      "\n",
      "Estimated Coefficients:\n",
      "                   Estimate       SE         tStat       pValue  \n",
      "                   ________    _________    _______    __________\n",
      "    (Intercept)     -58.368       38.055    -1.5338       0.12809\n",
      "    solar          -0.17011      0.10012    -1.6992       0.09225\n",
      "    wind             3.2212       1.5856     2.0315      0.044725\n",
      "    temp             4.4124       1.4851     2.9712     0.0036777\n",
      "    solar:temp     0.010291    0.0042662     2.4122      0.017589\n",
      "    wind:temp      -0.20844     0.060693    -3.4343    0.00085159\n",
      "\n",
      "Number of observations: 111, Error degrees of freedom: 105\n",
      "Root Mean Squared Error: 19.2\n",
      "R-squared: 0.683,  Adjusted R-Squared: 0.668\n",
      "F-statistic vs. constant model: 45.2, p-value = 1.12e-24\n"
     ]
    }
   ],
   "source": [
    "out = step(mlin, 'Criterion', 'AIC','NSteps', 3,  'Upper', 'interactions', 'Lower', 'constant', 'Verbose', 2)"
   ]
  },
  {
   "cell_type": "code",
   "execution_count": 44,
   "metadata": {},
   "outputs": [
    {
     "name": "stdout",
     "output_type": "stream",
     "text": [
      "   Change in AIC for adding solar:wind is -8.9758\n",
      "   Change in AIC for adding solar:temp is -10.2823\n",
      "   Change in AIC for adding wind:temp is -16.1119\n",
      "   Change in AIC for adding solar^2 is 1.8762\n",
      "   Change in AIC for adding wind^2 is -24.5362\n",
      "   Change in AIC for adding temp^2 is -12.58\n",
      "1. Adding wind^2, AIC = 972.1809\n",
      "   Change in AIC for adding solar:wind is -3.4382\n",
      "   Change in AIC for adding solar:temp is -6.2016\n",
      "   Change in AIC for adding wind:temp is 1.0573\n",
      "   Change in AIC for adding solar^2 is 1.6907\n",
      "   Change in AIC for adding temp^2 is -6.3985\n",
      "2. Adding temp^2, AIC = 965.7824\n",
      "   Change in AIC for adding solar:wind is -1.0462\n",
      "   Change in AIC for adding solar:temp is -1.554\n",
      "   Change in AIC for adding wind:temp is 0.78545\n",
      "   Change in AIC for adding solar^2 is 1.3158\n",
      "3. Adding solar:temp, AIC = 964.2285\n",
      "out2 = \n",
      "Linear regression model:\n",
      "    ozone ~ 1 + wind + solar*temp + wind^2 + temp^2\n",
      "\n",
      "Estimated Coefficients:\n",
      "                   Estimate       SE         tStat       pValue  \n",
      "                   ________    _________    _______    __________\n",
      "    (Intercept)      143.02       34.328     4.1664    6.4102e-05\n",
      "    solar          -0.11467      0.10017    -1.1448       0.25493\n",
      "    wind             -8.098       1.4204    -5.7013    1.1213e-07\n",
      "    temp            -4.6201       2.8728    -1.6082       0.11082\n",
      "    solar:temp     0.007844    0.0042642     1.8395      0.068696\n",
      "    wind^2           0.1722     0.038712     4.4481    2.1776e-05\n",
      "    temp^2          0.11807     0.062452     1.8906      0.061461\n",
      "\n",
      "Number of observations: 111, Error degrees of freedom: 104\n",
      "Root Mean Squared Error: 18.1\n",
      "R-squared: 0.721,  Adjusted R-Squared: 0.705\n",
      "F-statistic vs. constant model: 44.9, p-value = 1.05e-26\n"
     ]
    }
   ],
   "source": [
    "out2 = step(mlin, 'Criterion', 'AIC','NSteps', 3,  'Upper', 'quadratic', 'Lower', 'constant', 'Verbose', 2)"
   ]
  },
  {
   "cell_type": "code",
   "execution_count": null,
   "metadata": {},
   "outputs": [],
   "source": []
  },
  {
   "cell_type": "markdown",
   "metadata": {},
   "source": [
    "### Cross-validation\n",
    "\n",
    "I don't now yet if CV is needed."
   ]
  },
  {
   "cell_type": "code",
   "execution_count": null,
   "metadata": {},
   "outputs": [],
   "source": []
  },
  {
   "cell_type": "code",
   "execution_count": null,
   "metadata": {},
   "outputs": [],
   "source": []
  },
  {
   "cell_type": "code",
   "execution_count": null,
   "metadata": {},
   "outputs": [],
   "source": [
    "\n"
   ]
  },
  {
   "cell_type": "code",
   "execution_count": null,
   "metadata": {},
   "outputs": [],
   "source": []
  }
 ],
 "metadata": {
  "@webio": {
   "lastCommId": null,
   "lastKernelId": null
  },
  "kernelspec": {
   "display_name": "Julia 1.1.0",
   "language": "julia",
   "name": "julia-1.1"
  },
  "language_info": {
   "file_extension": ".jl",
   "mimetype": "application/julia",
   "name": "julia",
   "version": "1.1.0"
  }
 },
 "nbformat": 4,
 "nbformat_minor": 2
}
