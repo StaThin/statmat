{
 "cells": [
  {
   "cell_type": "markdown",
   "metadata": {
    "inputHidden": false,
    "outputHidden": false
   },
   "source": [
    "# Chapter 5 Confidence intervals\n",
    "\n",
    "### Example. The simplest confidence interval\n",
    "\n",
    "$X \\sim N(\\theta, 1)$. Consider the interval $[X - 1.96, X + 1.96]$. Now simulate $100$ intervals given $\\theta = 12$ and plot them.  "
   ]
  },
  {
   "cell_type": "code",
   "execution_count": 43,
   "metadata": {
    "inputHidden": false,
    "outputHidden": false
   },
   "outputs": [
    {
     "data": {
      "image/png": "[encoded data removed]",
      "text/plain": [
       "<IPython.core.display.Image object>"
      ]
     },
     "metadata": {},
     "output_type": "display_data"
    }
   ],
   "source": [
    "theta = 12;\n",
    "figure()\n",
    "hold on\n",
    "for i = 1:100\n",
    "    x = normrnd(theta, 1, 1);\n",
    "    if x - 1.96 <= theta & theta <= x + 1.96\n",
    "        plot([x-1.96; x+1.96], [i; i], '-b');\n",
    "    else\n",
    "        plot([x-1.96; x+1.96], [i; i], '-r');\n",
    "    end\n",
    "end\n",
    "hold off\n",
    "vline(theta);"
   ]
  },
  {
   "cell_type": "markdown",
   "metadata": {
    "inputHidden": false,
    "outputHidden": false
   },
   "source": [
    "\n",
    "### Example 5.4 Intervals based on the Student's t distribution\n",
    "\n",
    "Le $(X_1, \\dots, X_5) \\sim N(\\mu, \\sigma^2)$ iid. Then  $T = {\\surd n} (\\bar X - \\mu)/S_X \\sim t_4$. The quantiles $t_{5, 0.025}$ and   $t_{5, 0.975}$ are "
   ]
  },
  {
   "cell_type": "code",
   "execution_count": 44,
   "metadata": {
    "inputHidden": false,
    "outputHidden": false
   },
   "outputs": [
    {
     "name": "stdout",
     "output_type": "stream",
     "text": [
      "ans =\n",
      "   -2.7764    2.7764\n"
     ]
    }
   ],
   "source": [
    "[tinv(0.025, 4), tinv(0.975, 4)] "
   ]
  },
  {
   "cell_type": "markdown",
   "metadata": {
    "inputHidden": false,
    "outputHidden": false
   },
   "source": [
    "Therefore the interval with extremes\n",
    "$$\n",
    "L(X) = \\bar X - 2.7764 S_X/\\surd 5,\\qquad  R(X) = \\bar X +2.7764 S_X/\\surd 5 \n",
    "$$\n",
    "is a CI of level $0.95$. Now we simulate\n",
    "100 samples and the sequence of confidence intervals of level $0.95$."
   ]
  },
  {
   "cell_type": "code",
   "execution_count": 45,
   "metadata": {},
   "outputs": [
    {
     "data": {
      "image/png": "[encoded data removed]",
      "text/plain": [
       "<IPython.core.display.Image object>"
      ]
     },
     "metadata": {},
     "output_type": "display_data"
    }
   ],
   "source": [
    "theta = 12; sigma = 1; n = 5;\n",
    "figure()\n",
    "hold on\n",
    "for i = 1:100\n",
    "    x = normrnd(theta, sigma, n,1);  % sample of size n=5\n",
    "    xbar = mean(x);\n",
    "    sx = std(x);\n",
    "    se = sx/sqrt(n);\n",
    "    t = tinv(0.975, n-1);\n",
    "    L = xbar - t * se;\n",
    "    R = xbar + t * se;\n",
    "    if L<= theta & theta <= R\n",
    "        plot([L; R], [i; i], '-b');\n",
    "    else\n",
    "        plot([L; R], [i; i], '-r');\n",
    "    end\n",
    "end\n",
    "hold off\n",
    "vline(theta);"
   ]
  },
  {
   "cell_type": "markdown",
   "metadata": {
    "inputHidden": false,
    "outputHidden": false
   },
   "source": [
    "### Example. Glomerular filtration rate\n",
    "Data from Efron and Hastie and Dr. Myers’ nephrology laboratory: glomerular filtration rates is measured for $211$. `gfr` is an important indicator of kidney function, with low values suggesting trouble.\n",
    "\n",
    "We want a confidence interval for the mean gfr. "
   ]
  },
  {
   "cell_type": "code",
   "execution_count": 46,
   "metadata": {},
   "outputs": [],
   "source": [
    "gfr = [108\n",
    "91\n",
    "62\n",
    "59\n",
    "84\n",
    "60\n",
    "71\n",
    "105\n",
    "70\n",
    "69\n",
    "66\n",
    "65\n",
    "78\n",
    "83\n",
    "82\n",
    "68\n",
    "107\n",
    "68\n",
    "68\n",
    "69\n",
    "80\n",
    "75\n",
    "89\n",
    "68\n",
    "64\n",
    "68\n",
    "70\n",
    "57\n",
    "62\n",
    "87\n",
    "51\n",
    "55\n",
    "56\n",
    "57\n",
    "75\n",
    "98\n",
    "60\n",
    "68\n",
    "81\n",
    "47\n",
    "76\n",
    "48\n",
    "63\n",
    "58\n",
    "40\n",
    "62\n",
    "61\n",
    "58\n",
    "38\n",
    "40\n",
    "45\n",
    "68\n",
    "56\n",
    "64\n",
    "49\n",
    "53\n",
    "50\n",
    "39\n",
    "54\n",
    "47\n",
    "37\n",
    "50\n",
    "54\n",
    "70\n",
    "49\n",
    "57\n",
    "52\n",
    "47\n",
    "43\n",
    "52\n",
    "57\n",
    "46\n",
    "63\n",
    "56\n",
    "50\n",
    "51\n",
    "50\n",
    "42\n",
    "46\n",
    "56\n",
    "52\n",
    "59\n",
    "45\n",
    "50\n",
    "59\n",
    "44\n",
    "52\n",
    "54\n",
    "53\n",
    "63\n",
    "45\n",
    "56\n",
    "55\n",
    "53\n",
    "56\n",
    "46\n",
    "45\n",
    "49\n",
    "63\n",
    "50\n",
    "41\n",
    "42\n",
    "53\n",
    "50\n",
    "58\n",
    "50\n",
    "37\n",
    "53\n",
    "58\n",
    "49\n",
    "53\n",
    "51\n",
    "64\n",
    "44\n",
    "53\n",
    "53\n",
    "55\n",
    "43\n",
    "50\n",
    "60\n",
    "51\n",
    "55\n",
    "56\n",
    "52\n",
    "51\n",
    "45\n",
    "49\n",
    "51\n",
    "63\n",
    "48\n",
    "51\n",
    "60\n",
    "45\n",
    "40\n",
    "50\n",
    "66\n",
    "62\n",
    "69\n",
    "53\n",
    "54\n",
    "49\n",
    "47\n",
    "63\n",
    "55\n",
    "62\n",
    "57\n",
    "58\n",
    "51\n",
    "50\n",
    "57\n",
    "62\n",
    "45\n",
    "47\n",
    "52\n",
    "35\n",
    "41\n",
    "53\n",
    "48\n",
    "59\n",
    "45\n",
    "41\n",
    "52\n",
    "36\n",
    "84\n",
    "62\n",
    "31\n",
    "41\n",
    "48\n",
    "47\n",
    "50\n",
    "50\n",
    "57\n",
    "53\n",
    "37\n",
    "46\n",
    "41\n",
    "56\n",
    "51\n",
    "39\n",
    "59\n",
    "53\n",
    "51\n",
    "49\n",
    "45\n",
    "42\n",
    "32\n",
    "55\n",
    "34\n",
    "43\n",
    "35\n",
    "48\n",
    "33\n",
    "41\n",
    "38\n",
    "57\n",
    "37\n",
    "40\n",
    "34\n",
    "44\n",
    "43\n",
    "62\n",
    "36\n",
    "41\n",
    "51\n",
    "48\n",
    "31\n",
    "28\n",
    "33\n",
    "35\n",
    "48\n",
    "31];"
   ]
  },
  {
   "cell_type": "code",
   "execution_count": 47,
   "metadata": {},
   "outputs": [
    {
     "data": {
      "image/png": "[encoded data removed]",
      "text/plain": [
       "<IPython.core.display.Image object>"
      ]
     },
     "metadata": {},
     "output_type": "display_data"
    }
   ],
   "source": [
    "histogram(gfr, 15)"
   ]
  },
  {
   "cell_type": "code",
   "execution_count": 48,
   "metadata": {},
   "outputs": [
    {
     "data": {
      "image/png": "[encoded data removed]",
      "text/plain": [
       "<IPython.core.display.Image object>"
      ]
     },
     "metadata": {},
     "output_type": "display_data"
    }
   ],
   "source": [
    "qqplot(gfr)"
   ]
  },
  {
   "cell_type": "markdown",
   "metadata": {},
   "source": [
    "The QQ-plot indicates that the normality assumption is not valid for the right tail. However the sample size is large. So we use a confidence interval based on the $T$ pivot. "
   ]
  },
  {
   "cell_type": "code",
   "execution_count": 49,
   "metadata": {},
   "outputs": [
    {
     "name": "stdout",
     "output_type": "stream",
     "text": [
      "n =\n",
      "   211\n",
      "xbar =\n",
      "   54.2654\n",
      "me =\n",
      "    52\n",
      "sx =\n",
      "   13.7209\n"
     ]
    }
   ],
   "source": [
    "n = length(gfr)\n",
    "xbar = mean(gfr)\n",
    "me = median(gfr)\n",
    "sx = std(gfr)"
   ]
  },
  {
   "cell_type": "code",
   "execution_count": 50,
   "metadata": {},
   "outputs": [
    {
     "name": "stdout",
     "output_type": "stream",
     "text": [
      "alpha =\n",
      "    0.0500\n",
      "muhat =\n",
      "   54.2654\n",
      "sx =\n",
      "   13.7209\n",
      "CI =\n",
      "   54.2061\n",
      "   54.3247\n"
     ]
    }
   ],
   "source": [
    "alpha = 0.05\n",
    "[muhat,sx,CI] = normfit(gfr,1-alpha)"
   ]
  },
  {
   "cell_type": "code",
   "execution_count": 51,
   "metadata": {},
   "outputs": [
    {
     "name": "stdout",
     "output_type": "stream",
     "text": [
      "t =\n",
      "    1.9713\n"
     ]
    }
   ],
   "source": [
    "t = tinv(1-alpha/2, n-1) "
   ]
  },
  {
   "cell_type": "code",
   "execution_count": 52,
   "metadata": {},
   "outputs": [
    {
     "name": "stdout",
     "output_type": "stream",
     "text": [
      "half =\n",
      "    1.8621\n"
     ]
    }
   ],
   "source": [
    "half = t * sx/sqrt(211)"
   ]
  },
  {
   "cell_type": "code",
   "execution_count": 53,
   "metadata": {},
   "outputs": [
    {
     "name": "stdout",
     "output_type": "stream",
     "text": [
      "ci =\n",
      "   52.4033   56.1275\n"
     ]
    }
   ],
   "source": [
    "ci = [xbar - half xbar + half]"
   ]
  },
  {
   "cell_type": "markdown",
   "metadata": {},
   "source": [
    "### Example 5.2 Near pivot for the Binomial\n",
    "Solve the equation\n",
    "$$\n",
    "(X - n p)^2 \\le \\xi_{1-\\alpha/2}^2(n p (1-p))\n",
    "$$"
   ]
  },
  {
   "cell_type": "code",
   "execution_count": 54,
   "metadata": {},
   "outputs": [
    {
     "name": "stdout",
     "output_type": "stream",
     "text": [
      "x =\n",
      "    13\n",
      "n =\n",
      "    20\n",
      "z =\n",
      " 6217/9934 - (98*861^(1/2))/14901\n",
      " (98*861^(1/2))/14901 + 6217/9934\n",
      "ans =\n",
      "    0.4329\n",
      "    0.8188\n"
     ]
    }
   ],
   "source": [
    "x = 13 \n",
    "n = 20\n",
    "syms p positive\n",
    "z = solve((x - n * p)^2 - 1.96^2 *n * p * (1-p) == 0, p)\n",
    "eval(z)"
   ]
  },
  {
   "cell_type": "markdown",
   "metadata": {},
   "source": [
    "The observed confidence interval is $[0.4329, 0.8188]$. Below we show graphically the interval \n",
    "such that $|x - n p| \\le \\xi_{1-\\alpha/2} \\sqrt{n p (1-p)}$."
   ]
  },
  {
   "cell_type": "code",
   "execution_count": 55,
   "metadata": {},
   "outputs": [
    {
     "data": {
      "image/png": "[encoded data removed]",
      "text/plain": [
       "<IPython.core.display.Image object>"
      ]
     },
     "metadata": {},
     "output_type": "display_data"
    }
   ],
   "source": [
    "fplot(@(p) abs(x - n * p), [0,1]); hold on\n",
    "fplot(@(p) 1.96 .* sqrt(n .* p .* (1-p)), [0,1]); hold off\n",
    "vline(0.4329); vline(0.8188)"
   ]
  },
  {
   "cell_type": "markdown",
   "metadata": {},
   "source": [
    "### Binomial log-likelihood and observed information\n",
    "\n",
    "The model is $X\\sim Bin(n, \\theta)$. The observed information in the maximum likelihood point $\\hat \\theta = x/n$ is \n",
    "$$\n",
    "\\widehat{i}_{\\hat\\theta} = \\frac{n}{\\hat \\theta(1-\\hat \\theta)}.\n",
    "$$\n",
    "The quadratic approximation to the normalized likelihood is\n",
    "$$\n",
    "Q(\\theta) = -\\frac{1}{2} \\Big(\\frac{n}{\\hat \\theta(1-\\hat \\theta)}\\Big)(\\theta - \\hat \\theta)^2\n",
    "$$"
   ]
  },
  {
   "cell_type": "code",
   "execution_count": 64,
   "metadata": {},
   "outputs": [
    {
     "name": "stdout",
     "output_type": "stream",
     "text": [
      "n =\n",
      "   100\n",
      "x =\n",
      "    20\n"
     ]
    },
    {
     "data": {
      "image/png": "[encoded data removed]",
      "text/plain": [
       "<IPython.core.display.Image object>"
      ]
     },
     "metadata": {},
     "output_type": "display_data"
    }
   ],
   "source": [
    "n = 100\n",
    "x = 20\n",
    "th = linspace(0.001, 0.999, 100);\n",
    "llik = @(th) x .* log(th) + (n-x) .* log(1-th) - x .* log(x./n) - (n-x) .* log(1-x./n); \n",
    "plot(th, llik(th))\n",
    "axis([0 1 -30 0])\n",
    "hold on \n",
    "quad = @(th) (-1/2) .* (n ./ ( (x./n) .* (1 - x./n))) .* (th - x./n).^2;\n",
    "plot(th, quad(th))\n",
    "vline(x/n)\n",
    "hold off"
   ]
  },
  {
   "cell_type": "markdown",
   "metadata": {},
   "source": [
    "Compare with larger sample sizes and the same MLE."
   ]
  },
  {
   "cell_type": "markdown",
   "metadata": {},
   "source": [
    "### Multidimensional parameters\n",
    "Fisher information matrix for the parameter $p$ of the multinomial. Here $p = (p_1, p_2, p_3)^T$ with $\\sum_{i=1}^3 p_i = 1$. Thus we compute the matrix only for $p_1, p_2$. "
   ]
  },
  {
   "cell_type": "code",
   "execution_count": 57,
   "metadata": {},
   "outputs": [
    {
     "name": "stdout",
     "output_type": "stream",
     "text": [
      "i_p =\n",
      "[ 1/p1 + 1/p3,        1/p3]\n",
      "[        1/p3, 1/p2 + 1/p3]\n"
     ]
    }
   ],
   "source": [
    "clear\n",
    "syms p1 p2 p3 positive\n",
    "\n",
    "i_p = (ones(2) - eye(2)) ./ p3 + diag([1/p1 + 1/p3, 1/p2 + 1/p3])"
   ]
  },
  {
   "cell_type": "markdown",
   "metadata": {},
   "source": [
    "Inverse of the Fisher information matrix."
   ]
  },
  {
   "cell_type": "code",
   "execution_count": 58,
   "metadata": {},
   "outputs": [
    {
     "name": "stdout",
     "output_type": "stream",
     "text": [
      "ii_p =\n",
      "[ -p1*(p1 - 1),       -p1*p2]\n",
      "[       -p1*p2, -p2*(p2 - 1)]\n"
     ]
    }
   ],
   "source": [
    "p3 = 1 - p1 - p2;\n",
    "ii_p = simplify(inv(eval(i_p)))"
   ]
  },
  {
   "cell_type": "markdown",
   "metadata": {},
   "source": [
    "The inverse can be written as $I_2 - p p^T$."
   ]
  },
  {
   "cell_type": "markdown",
   "metadata": {},
   "source": [
    "### Confidence region for $(p_1, p_2)$ \n",
    "\n",
    "Data on pneumoconiosis for $43$ miners after $20$ years of work\n",
    "$$\n",
    "\\begin{array}{cccc}\\hline\n",
    "Severe & Present & Absent & Total \\\\\n",
    "3 & 6 & 34 & 43 \\\\ \\hline\n",
    "\\end{array}\n",
    "$$\n",
    "Compute the estimates of $p$, the estimated information matrix and the $95\\%$ confidence region."
   ]
  },
  {
   "cell_type": "code",
   "execution_count": 59,
   "metadata": {},
   "outputs": [
    {
     "name": "stdout",
     "output_type": "stream",
     "text": [
      "i_ph =\n",
      "   15.5980    1.2647\n",
      "    1.2647    8.4314\n",
      "K =\n",
      "    0.0015   -0.0002\n",
      "   -0.0002    0.0028\n",
      "ph =\n",
      "    0.0698\n",
      "    0.1395\n",
      "k =\n",
      "    5.9915\n"
     ]
    },
    {
     "data": {
      "image/png": "[encoded data removed]",
      "text/plain": [
       "<IPython.core.display.Image object>"
      ]
     },
     "metadata": {},
     "output_type": "display_data"
    }
   ],
   "source": [
    "clear;\n",
    "n = 43;\n",
    "ph1 = 3/n; \n",
    "ph2 = 6/n;\n",
    "ph3 = 34/n;\n",
    "\n",
    "i_ph = [1/ph1 + 1/ph3 , 1/ph3\n",
    "        1/ ph3,  1/ph2 + 1/ph3] % inverse of the asymptotic covariance matrix\n",
    "K = inv(n * i_ph)               % asymptotic covariance matrix\n",
    "ph = [ph1; ph2]\n",
    "k = chi2inv(0.95, 2)\n",
    "plot_ellipse(ph, K, sqrt(k))\n",
    "vline(ph1)\n",
    "hline(ph2)"
   ]
  },
  {
   "cell_type": "markdown",
   "metadata": {},
   "source": [
    "Note that the region contains  negative probabilities ! "
   ]
  },
  {
   "cell_type": "markdown",
   "metadata": {},
   "source": [
    "### Example for the delta method"
   ]
  },
  {
   "cell_type": "code",
   "execution_count": 60,
   "metadata": {},
   "outputs": [
    {
     "name": "stdout",
     "output_type": "stream",
     "text": [
      "th =\n",
      "    0.6000\n",
      "phi =\n",
      "    0.4055\n"
     ]
    }
   ],
   "source": [
    "n = 200; x = 120; \n",
    "th = x/n\n",
    "phi = log(th/(1-th))"
   ]
  },
  {
   "cell_type": "code",
   "execution_count": 61,
   "metadata": {},
   "outputs": [
    {
     "name": "stdout",
     "output_type": "stream",
     "text": [
      "seh =\n",
      "    0.1443\n"
     ]
    }
   ],
   "source": [
    "seh = 1/sqrt(n* th *(1-th))"
   ]
  },
  {
   "cell_type": "code",
   "execution_count": 62,
   "metadata": {},
   "outputs": [
    {
     "name": "stdout",
     "output_type": "stream",
     "text": [
      "ans =\n",
      "    0.1226    0.6884\n"
     ]
    }
   ],
   "source": [
    "[phi - 1.96 * seh , phi + 1.96 * seh]"
   ]
  },
  {
   "cell_type": "markdown",
   "metadata": {},
   "source": [
    "### Plot a dispersion ellipse on a scatter"
   ]
  },
  {
   "cell_type": "code",
   "execution_count": 63,
   "metadata": {},
   "outputs": [
    {
     "name": "stdout",
     "output_type": "stream",
     "text": [
      "M =\n",
      "    26    10\n",
      "    10    26\n"
     ]
    },
    {
     "data": {
      "image/png": "[encoded data removed]",
      "text/plain": [
       "<IPython.core.display.Image object>"
      ]
     },
     "metadata": {},
     "output_type": "display_data"
    }
   ],
   "source": [
    "z1 = randn(1000,1);\n",
    "z2 = randn(1000,1);\n",
    "A = [5 1;1 5];\n",
    "X = [z1 z2] * A;\n",
    "M = A * A'\n",
    "plot(X(:,1), X(:,2), '.')\n",
    "hold on \n",
    "plot_ellipse([0 0]', M, sqrt(chi2inv(0.95,2)))"
   ]
  },
  {
   "cell_type": "markdown",
   "metadata": {},
   "source": [
    "### Example 5.23 Confidence interval for the exponential parameter \n",
    "\n",
    "Dieci lampadine sono lasciate accese per 40 giorni. $X$ sono le durate delle lampadine. Assumendo che $X$ sia esponenziale con parametro $\\lambda$ trovare un intervallo di confidenza al 95% per $\\lambda$. "
   ]
  },
  {
   "cell_type": "code",
   "execution_count": 2,
   "metadata": {},
   "outputs": [],
   "source": [
    "clear\n",
    "x = [25    11    12     7     5     4    19     6     6    27]';\n",
    "n = length(x);"
   ]
  },
  {
   "cell_type": "markdown",
   "metadata": {},
   "source": [
    "La stima di massima verosimiglianza è $\\hat \\lambda = 1/\\bar x$."
   ]
  },
  {
   "cell_type": "code",
   "execution_count": 3,
   "metadata": {},
   "outputs": [
    {
     "name": "stdout",
     "output_type": "stream",
     "text": [
      "lh =\n",
      "    0.0820\n"
     ]
    }
   ],
   "source": [
    "lh = 1/mean(x)"
   ]
  },
  {
   "cell_type": "markdown",
   "metadata": {},
   "source": [
    "Definisco la log-verosimiglianza normalizzata."
   ]
  },
  {
   "cell_type": "code",
   "execution_count": 4,
   "metadata": {},
   "outputs": [
    {
     "name": "stdout",
     "output_type": "stream",
     "text": [
      "llexp =\n",
      "  function_handle with value:\n",
      "    @(lam)n.*log(lam)-lam.*s-n.*log(lh)+lh.*s\n"
     ]
    }
   ],
   "source": [
    "s = sum(x);\n",
    "llexp = @(lam) n .* log(lam) - lam .* s  -  n .* log(lh) + lh .* s  "
   ]
  },
  {
   "cell_type": "markdown",
   "metadata": {},
   "source": [
    "Intervallo di confidenza ottenuto tagliando la log-verosimiglianza relativa"
   ]
  },
  {
   "cell_type": "code",
   "execution_count": 36,
   "metadata": {},
   "outputs": [
    {
     "data": {
      "image/png": "[encoded data removed]",
      "text/plain": [
       "<IPython.core.display.Image object>"
      ]
     },
     "metadata": {},
     "output_type": "display_data"
    }
   ],
   "source": [
    "fplot(llexp, [0.01, .2])\n",
    "vline(lh)\n",
    "hline(-3.84/2)"
   ]
  },
  {
   "cell_type": "code",
   "execution_count": 5,
   "metadata": {},
   "outputs": [
    {
     "name": "stdout",
     "output_type": "stream",
     "text": [
      "fun =\n",
      "  function_handle with value:\n",
      "    @(l)llexp(l)+1/2*3.84\n",
      "R =\n",
      "    0.1438\n",
      "L =\n",
      "    0.0411\n"
     ]
    }
   ],
   "source": [
    "syms l  real\n",
    "fun  = @(l) llexp(l) + 1/2 *3.84\n",
    "R = fzero(fun, 0.1)\n",
    "L = fzero(fun, 0.04)"
   ]
  },
  {
   "cell_type": "code",
   "execution_count": 6,
   "metadata": {},
   "outputs": [
    {
     "data": {
      "image/png": "[encoded data removed]",
      "text/plain": [
       "<IPython.core.display.Image object>"
      ]
     },
     "metadata": {},
     "output_type": "display_data"
    }
   ],
   "source": [
    "fplot(llexp, [0.01, .2])\n",
    "vline(lh)\n",
    "hline(-3.84/2)\n",
    "vline(L)\n",
    "vline(R)"
   ]
  },
  {
   "cell_type": "markdown",
   "metadata": {},
   "source": [
    "### Example (Gelman et al.) \n",
    "\n",
    "(Wikipedia) Placenta praevia is when the placenta attaches inside the uterus but near or over the cervical opening.\n",
    "\n",
    "La placenta previa è considerata una delle emergenze ostetriche del terzo trimestre di gravidanza, soprattutto durante il parto. Anatomicamente la placenta si viene a trovare davanti alla parte di presentazione fetale. Può essere causa di emorragie gravi.\n",
    "\n",
    "We are interested in estimation of the proportion $\\theta$  of female births in the population of the placenta previa births. Is $\\theta < 0.485$, the proportion of female births in the general population?\n",
    "\n",
    "Data: a study in Germany found that of  $n = 980$ placenta previa births, $x = 437$ were female.\n",
    "\n",
    "Model: $ X \\sim Bin(980, \\theta)$ and prior $\\theta \\sim U(0,1) = Beta(1,1)$.\n",
    "\n",
    "Likelihood: $\\theta^{437}(1 - \\theta)^{980-437}$\n",
    "\n",
    "Posterior: $Beta(438, 544)$\n",
    "\n",
    "Posterior mean: $438/982 = 0.4460285$\n",
    "\n",
    "\n"
   ]
  },
  {
   "cell_type": "code",
   "execution_count": 16,
   "metadata": {},
   "outputs": [],
   "source": [
    "post = @(x) betapdf(x, 438, 544);"
   ]
  },
  {
   "cell_type": "code",
   "execution_count": 17,
   "metadata": {},
   "outputs": [
    {
     "data": {
      "image/png": "[encoded data removed]",
      "text/plain": [
       "<IPython.core.display.Image object>"
      ]
     },
     "metadata": {},
     "output_type": "display_data"
    }
   ],
   "source": [
    "fplot(post, [0.38,0.52])"
   ]
  },
  {
   "cell_type": "markdown",
   "metadata": {},
   "source": [
    "Note that we can also simulate the posterior"
   ]
  },
  {
   "cell_type": "code",
   "execution_count": 18,
   "metadata": {},
   "outputs": [
    {
     "data": {
      "image/png": "[encoded data removed]",
      "text/plain": [
       "<IPython.core.display.Image object>"
      ]
     },
     "metadata": {},
     "output_type": "display_data"
    }
   ],
   "source": [
    "theta = betarnd(438, 544, 10000,1);\n",
    "histogram(theta, 50, 'Normalization', 'pdf', 'DisplayStyle', 'stairs')\n",
    "hold on \n",
    "fplot(post, [0.38,0.52])\n",
    "hold off"
   ]
  },
  {
   "cell_type": "markdown",
   "metadata": {},
   "source": [
    "Credibile intervals of level $0.5,  0.95$. The second is approximate, obtained via simulation"
   ]
  },
  {
   "cell_type": "code",
   "execution_count": 26,
   "metadata": {},
   "outputs": [
    {
     "name": "stdout",
     "output_type": "stream",
     "text": [
      "ans =\n",
      "    0.4151    0.4353    0.4567    0.4772\n"
     ]
    }
   ],
   "source": [
    "betainv([.025, .25, .75, .975], 438, 544)"
   ]
  },
  {
   "cell_type": "code",
   "execution_count": 37,
   "metadata": {},
   "outputs": [
    {
     "name": "stdout",
     "output_type": "stream",
     "text": [
      "ans =\n",
      "    0.4148    0.4350    0.4563    0.4773\n"
     ]
    }
   ],
   "source": [
    "quantile(theta,[.025, .25, .75, .975] )"
   ]
  },
  {
   "cell_type": "markdown",
   "metadata": {},
   "source": [
    "Credible interval 95%: $[0.4151, 0.4772]$"
   ]
  },
  {
   "cell_type": "markdown",
   "metadata": {},
   "source": [
    "Probability that $\\theta < 0.485$ is $0.9928$"
   ]
  },
  {
   "cell_type": "code",
   "execution_count": 38,
   "metadata": {},
   "outputs": [
    {
     "name": "stdout",
     "output_type": "stream",
     "text": [
      "ans =\n",
      "    0.9928\n"
     ]
    }
   ],
   "source": [
    "betacdf(0.485, 438, 544)"
   ]
  },
  {
   "cell_type": "markdown",
   "metadata": {},
   "source": [
    "### Example of a HPD credible interval\n",
    "\n",
    "$X \\sim Bin(10, \\theta)$, $\\theta\\sim Beta(1,1)$. Observed $x =2$."
   ]
  },
  {
   "cell_type": "code",
   "execution_count": 95,
   "metadata": {},
   "outputs": [
    {
     "name": "stdout",
     "output_type": "stream",
     "text": [
      "q =\n",
      "    0.0602    0.5178\n",
      "h =\n",
      "    0.0405    0.4837\n"
     ]
    }
   ],
   "source": [
    "a = betainv(0.025, 3,9);\n",
    "b = betainv(0.975, 3,9);\n",
    "q = [a b]       % Quantile based interval\n",
    "\n",
    "\n",
    "\n",
    "alpha = 0.05;\n",
    "fun  = @(u) betainv((1-alpha) + u, 3, 9) - betainv(u, 3,9);\n",
    "g = fminbnd(fun, 0, alpha);\n",
    "h = [betainv(g, 3,9)   betainv(1-alpha + g, 3, 9)]\n",
    "%g = linspace(0, alpha, 100);\n",
    "%l = quantile(theta, g);\n",
    "%r = quantile(theta, (1-alpha)+g);\n",
    "%[u,i] = min(r-l);\n",
    "%h = [l(i) r(i)]     % HPD interval"
   ]
  },
  {
   "cell_type": "code",
   "execution_count": 98,
   "metadata": {},
   "outputs": [
    {
     "data": {
      "image/png": "[encoded data removed]",
      "text/plain": [
       "<IPython.core.display.Image object>"
      ]
     },
     "metadata": {},
     "output_type": "display_data"
    }
   ],
   "source": [
    "post = @(x) betapdf(x, 3,9);\n",
    "fplot(post, [0,1])\n",
    "vline([q(1), q(2)])\n",
    "line([q(1); q(2)],[betapdf(q(1), 3, 9), betapdf(q(2), 3, 9)])\n",
    "\n",
    "vline([h(1), h(2)])\n",
    "line([h(1); h(2)],[betapdf(h(1), 3, 9), betapdf(h(2), 3, 9)])"
   ]
  },
  {
   "cell_type": "code",
   "execution_count": null,
   "metadata": {},
   "outputs": [],
   "source": []
  },
  {
   "cell_type": "code",
   "execution_count": 9,
   "metadata": {},
   "outputs": [
    {
     "data": {
      "image/png": "[encoded data removed]",
      "text/plain": [
       "<IPython.core.display.Image object>"
      ]
     },
     "metadata": {},
     "output_type": "display_data"
    }
   ],
   "source": [
    "fplot(@(x) chi2pdf(x, 5), [0, 20])\n",
    "hold on \n",
    "fplot(@(x) chi2pdf(x, 6), [0, 20])"
   ]
  },
  {
   "cell_type": "code",
   "execution_count": 15,
   "metadata": {},
   "outputs": [
    {
     "name": "stdout",
     "output_type": "stream",
     "text": [
      "ans =\n",
      "    9.1771\n"
     ]
    }
   ],
   "source": [
    "diff(chi2inv([0.025 0.925], 25))\n"
   ]
  },
  {
   "cell_type": "code",
   "execution_count": 16,
   "metadata": {},
   "outputs": [
    {
     "name": "stdout",
     "output_type": "stream",
     "text": [
      "ans =\n",
      "   23.1402\n"
     ]
    }
   ],
   "source": [
    "diff(chi2inv([0.025 0.925], 26))"
   ]
  },
  {
   "cell_type": "code",
   "execution_count": 2,
   "metadata": {},
   "outputs": [
    {
     "name": "stdout",
     "output_type": "stream",
     "text": [
      "x =\n",
      "  Columns 1 through 7\n",
      "    1.1375   -2.1154   -0.3672    1.1852    7.6568    6.0389   -2.1998\n",
      "  Columns 8 through 14\n",
      "    6.5698    1.9508    0.3739    1.9295    0.0901    0.2517    3.4794\n",
      "  Columns 15 through 21\n",
      "    3.3181    3.3344    1.8430   -1.9150    1.9345    3.7605    1.4778\n",
      "  Columns 22 through 28\n",
      "    2.5694    1.9538   -0.1069    1.0877   -1.0746    2.2768   -1.7941\n",
      "  Columns 29 through 35\n",
      "   -1.6377   -1.1190   -5.3886    3.3768    1.1504   -1.0099    3.2406\n",
      "  Columns 36 through 42\n",
      "   -2.9230    0.2955    0.0171    1.1384    1.1257   -1.2298    0.4399\n",
      "  Columns 43 through 49\n",
      "    0.1702    1.7554    2.6865    2.7185   -1.2273    0.6547   -1.9282\n",
      "  Column 50\n",
      "   -1.7270\n"
     ]
    }
   ],
   "source": [
    "mu= 0.5; sd = 2; x = normrnd(mu, sd, 1, 50 )"
   ]
  },
  {
   "cell_type": "code",
   "execution_count": 4,
   "metadata": {},
   "outputs": [
    {
     "name": "stdout",
     "output_type": "stream",
     "text": [
      "h =\n",
      "     1\n",
      "pval =\n",
      "    0.0122\n",
      "CI =\n",
      "    0.2057    1.6033\n",
      "stats = \n",
      "  struct with fields:\n",
      "\n",
      "    tstat: 2.6012\n",
      "       df: 49\n",
      "       sd: 2.4588\n"
     ]
    }
   ],
   "source": [
    "[h,pval,CI,stats] = ttest(x) "
   ]
  },
  {
   "cell_type": "code",
   "execution_count": 3,
   "metadata": {},
   "outputs": [
    {
     "name": "stdout",
     "output_type": "stream",
     "text": [
      " TTEST  One-sample and paired-sample t-test.\n",
      "    H = TTEST(X) performs a t-test of the hypothesis that the data in the\n",
      "    vector X come from a distribution with mean zero, and returns the\n",
      "    result of the test in H.  H=0 indicates that the null hypothesis\n",
      "    (\"mean is zero\") cannot be rejected at the 5% significance level.  H=1\n",
      "    indicates that the null hypothesis can be rejected at the 5% level.\n",
      "    The data are assumed to come from a normal distribution with unknown\n",
      "    variance.\n",
      " \n",
      "    X can also be a matrix or an N-D array.   For matrices, TTEST performs\n",
      "    separate t-tests along each column of X, and returns a vector of\n",
      "    results.  For N-D arrays, TTEST works along the first non-singleton\n",
      "    dimension of X.\n",
      " \n",
      "    TTEST treats NaNs as missing values, and ignores them.\n",
      " \n",
      "    H = TTEST(X,M) performs a t-test of the hypothesis that the data in\n",
      "    X come from a distribution with mean M.  M must be a scalar.\n",
      " \n",
      "    H = TTEST(X,Y) performs a paired t-test of the hypothesis that two\n",
      "    matched samples, in the vectors X and Y, come from distributions with\n",
      "    equal means. The difference X-Y is assumed to come from a normal\n",
      "    distribution with unknown variance.  X and Y must have the same length.\n",
      "    X and Y can also be matrices or N-D arrays of the same size.\n",
      " \n",
      "    [H,P] = TTEST(...) returns the p-value, i.e., the probability of\n",
      "    observing the given result, or one more extreme, by chance if the null\n",
      "    hypothesis is true.  Small values of P cast doubt on the validity of\n",
      "    the null hypothesis.\n",
      " \n",
      "    [H,P,CI] = TTEST(...) returns a 100*(1-ALPHA)% confidence interval for\n",
      "    the true mean of X, or of X-Y for a paired test.\n",
      " \n",
      "    [H,P,CI,STATS] = TTEST(...) returns a structure with the following fields:\n",
      "       'tstat' -- the value of the test statistic\n",
      "       'df'    -- the degrees of freedom of the test\n",
      "       'sd'    -- the estimated population standard deviation.  For a\n",
      "                  paired test, this is the std. dev. of X-Y.\n",
      " \n",
      "    [...] = TTEST(X,Y,'PARAM1',val1,'PARAM2',val2,...) specifies one or\n",
      "    more of the following name/value pairs:\n",
      " \n",
      "        Parameter       Value\n",
      "        'alpha'         A value ALPHA between 0 and 1 specifying the\n",
      "                        significance level as (100*ALPHA)%. Default is\n",
      "                        0.05 for 5% significance.\n",
      "        'dim'           Dimension DIM to work along. For example, specifying\n",
      "                        'dim' as 1 tests the column means. Default is the\n",
      "                        first non-singleton dimension.\n",
      "        'tail'          A string specifying the alternative hypothesis:\n",
      "            'both'  -- \"mean is not M\" (two-tailed test)\n",
      "            'right' -- \"mean is greater than M\" (right-tailed test)\n",
      "            'left'  -- \"mean is less than M\" (left-tailed test)\n",
      " \n",
      "    See also TTEST2, ZTEST, SIGNTEST, SIGNRANK, VARTEST.\n",
      "\n",
      "    Reference page in Doc Center\n",
      "       doc ttest\n",
      "\n",
      "\n"
     ]
    }
   ],
   "source": [
    "help ttest\n"
   ]
  },
  {
   "cell_type": "code",
   "execution_count": null,
   "metadata": {},
   "outputs": [],
   "source": []
  }
 ],
 "metadata": {
  "@webio": {
   "lastCommId": null,
   "lastKernelId": null
  },
  "kernel_info": {
   "name": "matlab"
  },
  "kernelspec": {
   "display_name": "Matlab",
   "language": "matlab",
   "name": "matlab"
  },
  "language_info": {
   "codemirror_mode": "octave",
   "file_extension": ".m",
   "help_links": [
    {
     "text": "MetaKernel Magics",
     "url": "https://github.com/calysto/metakernel/blob/master/metakernel/magics/README.md"
    }
   ],
   "mimetype": "text/x-octave",
   "name": "matlab",
   "version": "0.16.1"
  },
  "nteract": {
   "version": "0.12.3"
  }
 },
 "nbformat": 4,
 "nbformat_minor": 4
}
